{
 "cells": [
  {
   "cell_type": "markdown",
   "id": "7bde912f",
   "metadata": {},
   "source": [
    "# _STAT 201 Group Project: Analysis of the effect of tree location on tree diameter_"
   ]
  },
  {
   "cell_type": "markdown",
   "id": "c3e7103d",
   "metadata": {},
   "source": [
    "##### _Group 31: Alexandr Kim, Yingshan Wu, Yang Lei, Harbor Zhang_"
   ]
  },
  {
   "cell_type": "markdown",
   "id": "dafa4964",
   "metadata": {},
   "source": [
    "## Introduction"
   ]
  },
  {
   "cell_type": "markdown",
   "id": "09bed99d",
   "metadata": {},
   "source": [
    "In our statistical investigation, we will be looking at street trees dataset provided by the City of Vancouver (See __Appendix A__). The street tree dataset lists out the information about the trees that are located within city of Vancouver with diverse classifications such as species name of the tree, common name, number of trees on street side name, and number of trees on different neighbourhood. We are going to select the `CURB` (which classifies the data into 2 category of whether or not the tree is located at the curb) and evaluating it with the `DIAMETER` (in inches). Using this data set, we are going to mainely use `infer`, `tidyverse`, and `ggplot2` packages in order to compute hypothesis testing utilising difference in medians of two type of trees that we selected under the significance level of 95% ($\\alpha$ = 0.05) to answer an inferential question: \"Are the diametres of trees at the curb different from those which are not located at the curb?\". And later on, we are also going to contruct a 95% confidence interval to predict the true population difference in medians of tree diameters on and not on the curb."
   ]
  },
  {
   "cell_type": "markdown",
   "id": "6da3cd4b",
   "metadata": {},
   "source": [
    " ## <span style=\"color:red\"> 1. add figure label/ adjust figure title  </span> \n",
    " ## <span style=\"color:red\"> 2. add simple analysis on each code box's result </span> "
   ]
  },
  {
   "cell_type": "markdown",
   "id": "2e449eef",
   "metadata": {},
   "source": [
    "## Methods and Results"
   ]
  },
  {
   "cell_type": "markdown",
   "id": "6164b602",
   "metadata": {},
   "source": [
    "We first decide our null hypothesis and alternative hypothesis. The null hypothesis is that the median diameter of the trees that are located at the curb is the same as the median diameter of the trees which are not at the curb. The alternative hypothesis is that the median diameter of the trees that are located at the curb is different from the median diameter of the trees which are not at the curb. Then we use the infer package to calculate the observed test statistic (observed difference in medians). After that, we generate 1000 samples from the null distribution and calculate the difference in medians for each sample. Then, we visualise the null distribution and the observed test statistic in one plot, and we shade the two-sided p-value. Followingly, we compare the p-value with the 5% significance level and make our conclusion whether to reject the null hypothesis. The next step is that we are going to find a 95% confidence interval for the difference in median. We will generate 1000 bootstrapping samples and calculate the difference in medians for each sample. Then we get our confidence interval and visualise it with the bootstrap distribution."
   ]
  },
  {
   "cell_type": "markdown",
   "id": "2b72d80a",
   "metadata": {},
   "source": [
    "We assume that the median diameter of the trees planted on the curb would be different from the median diameter of the trees planted not on the curb. The results we find will help conclude whether there is any statistically significant difference between tree diameters on and not on the curb. In reality, city planning might have different needs and standards on trees’ thickness on and not on the curb. This finding could provide evidence on whether existing trees on and not on the curb have differences in thickness, and it could present as data assisting future analysis. For future tree planting in Vancouver, we can use the results we find from this analysis to do effective city planning as the City of Vancouver can better arrange trees with different diameters to look more standardised and visually appealing."
   ]
  },
  {
   "cell_type": "markdown",
   "id": "fd3e39a2",
   "metadata": {},
   "source": [
    "Loading in the necessary libraries for this data analysis"
   ]
  },
  {
   "cell_type": "code",
   "execution_count": 1,
   "id": "f710ead8",
   "metadata": {},
   "outputs": [
    {
     "name": "stderr",
     "output_type": "stream",
     "text": [
      "── \u001b[1mAttaching packages\u001b[22m ─────────────────────────────────────── tidyverse 1.3.0 ──\n",
      "\n",
      "\u001b[32m✔\u001b[39m \u001b[34mggplot2\u001b[39m 3.3.6     \u001b[32m✔\u001b[39m \u001b[34mpurrr  \u001b[39m 0.3.4\n",
      "\u001b[32m✔\u001b[39m \u001b[34mtibble \u001b[39m 3.1.7     \u001b[32m✔\u001b[39m \u001b[34mdplyr  \u001b[39m 1.0.9\n",
      "\u001b[32m✔\u001b[39m \u001b[34mtidyr  \u001b[39m 1.2.0     \u001b[32m✔\u001b[39m \u001b[34mstringr\u001b[39m 1.4.0\n",
      "\u001b[32m✔\u001b[39m \u001b[34mreadr  \u001b[39m 2.1.2     \u001b[32m✔\u001b[39m \u001b[34mforcats\u001b[39m 0.5.1\n",
      "\n",
      "── \u001b[1mConflicts\u001b[22m ────────────────────────────────────────── tidyverse_conflicts() ──\n",
      "\u001b[31m✖\u001b[39m \u001b[34mdplyr\u001b[39m::\u001b[32mfilter()\u001b[39m masks \u001b[34mstats\u001b[39m::filter()\n",
      "\u001b[31m✖\u001b[39m \u001b[34mdplyr\u001b[39m::\u001b[32mlag()\u001b[39m    masks \u001b[34mstats\u001b[39m::lag()\n",
      "\n",
      "\n",
      "Attaching package: ‘gridExtra’\n",
      "\n",
      "\n",
      "The following object is masked from ‘package:dplyr’:\n",
      "\n",
      "    combine\n",
      "\n",
      "\n",
      "\n",
      "Attaching package: ‘data.table’\n",
      "\n",
      "\n",
      "The following objects are masked from ‘package:dplyr’:\n",
      "\n",
      "    between, first, last\n",
      "\n",
      "\n",
      "The following object is masked from ‘package:purrr’:\n",
      "\n",
      "    transpose\n",
      "\n",
      "\n"
     ]
    }
   ],
   "source": [
    "library(tidyverse)\n",
    "library(cowplot)\n",
    "library(gridExtra)\n",
    "library(infer)\n",
    "library(repr)\n",
    "library(ggplot2)\n",
    "library(data.table)"
   ]
  },
  {
   "cell_type": "markdown",
   "id": "2bf18d1c",
   "metadata": {},
   "source": [
    "While loading the library and shows error that the R cannot load a package, go to __Appendix B__ and install all relevant packages for this statistical investigation."
   ]
  },
  {
   "cell_type": "markdown",
   "id": "5552025a",
   "metadata": {},
   "source": [
    "While loading the library and shows error that the R cannot load a package, go to __Appendix B__ and install all relevant packages for this statistical investigation."
   ]
  },
  {
   "cell_type": "code",
   "execution_count": 2,
   "id": "bc11220d",
   "metadata": {},
   "outputs": [
    {
     "name": "stdout",
     "output_type": "stream",
     "text": [
      "Rows: 151,101\n",
      "Columns: 19\n",
      "$ TREE_ID            \u001b[3m\u001b[90m<int>\u001b[39m\u001b[23m 19880, 19893, 19904, 19907, 19912, 19914, 19935, 19…\n",
      "$ CIVIC_NUMBER       \u001b[3m\u001b[90m<int>\u001b[39m\u001b[23m 755, 1107, 1135, 1155, 1180, 1191, 1250, 1285, 1284…\n",
      "$ STD_STREET         \u001b[3m\u001b[90m<chr>\u001b[39m\u001b[23m \"E 19TH AV\", \"E 19TH AV\", \"E 19TH AV\", \"E 19TH AV\",…\n",
      "$ GENUS_NAME         \u001b[3m\u001b[90m<chr>\u001b[39m\u001b[23m \"FRAXINUS\", \"PRUNUS\", \"PRUNUS\", \"PRUNUS\", \"PRUNUS\",…\n",
      "$ SPECIES_NAME       \u001b[3m\u001b[90m<chr>\u001b[39m\u001b[23m \"OXYCARPA\", \"SERRULATA\", \"SERRULATA\", \"SERRULATA\", …\n",
      "$ CULTIVAR_NAME      \u001b[3m\u001b[90m<chr>\u001b[39m\u001b[23m \"\", \"KWANZAN\", \"KWANZAN\", \"KWANZAN\", \"KWANZAN\", \"KW…\n",
      "$ COMMON_NAME        \u001b[3m\u001b[90m<chr>\u001b[39m\u001b[23m \"CAUCASIAN ASH\", \"KWANZAN FLOWERING CHERRY\", \"KWANZ…\n",
      "$ ASSIGNED           \u001b[3m\u001b[90m<chr>\u001b[39m\u001b[23m \"N\", \"N\", \"N\", \"N\", \"N\", \"N\", \"N\", \"N\", \"N\", \"N\", \"…\n",
      "$ ROOT_BARRIER       \u001b[3m\u001b[90m<chr>\u001b[39m\u001b[23m \"N\", \"N\", \"N\", \"N\", \"N\", \"N\", \"N\", \"N\", \"N\", \"N\", \"…\n",
      "$ PLANT_AREA         \u001b[3m\u001b[90m<chr>\u001b[39m\u001b[23m \"6\", \"8\", \"8\", \"8\", \"8\", \"8\", \"8\", \"8\", \"8\", \"6\", \"…\n",
      "$ ON_STREET_BLOCK    \u001b[3m\u001b[90m<int>\u001b[39m\u001b[23m 700, 1100, 1100, 1100, 1100, 1100, 1200, 1200, 1200…\n",
      "$ ON_STREET          \u001b[3m\u001b[90m<chr>\u001b[39m\u001b[23m \"E 19TH AV\", \"E 19TH AV\", \"E 19TH AV\", \"E 19TH AV\",…\n",
      "$ NEIGHBOURHOOD_NAME \u001b[3m\u001b[90m<chr>\u001b[39m\u001b[23m \"KENSINGTON-CEDAR COTTAGE\", \"KENSINGTON-CEDAR COTTA…\n",
      "$ STREET_SIDE_NAME   \u001b[3m\u001b[90m<chr>\u001b[39m\u001b[23m \"ODD\", \"ODD\", \"ODD\", \"ODD\", \"EVEN\", \"ODD\", \"EVEN\", …\n",
      "$ HEIGHT_RANGE_ID    \u001b[3m\u001b[90m<int>\u001b[39m\u001b[23m 2, 3, 3, 3, 3, 3, 3, 3, 3, 4, 3, 3, 3, 3, 2, 1, 3, …\n",
      "$ DIAMETER           \u001b[3m\u001b[90m<dbl>\u001b[39m\u001b[23m 12.0, 29.0, 27.0, 32.0, 14.5, 27.0, 29.0, 15.5, 29.…\n",
      "$ CURB               \u001b[3m\u001b[90m<chr>\u001b[39m\u001b[23m \"Y\", \"Y\", \"Y\", \"Y\", \"Y\", \"Y\", \"Y\", \"Y\", \"Y\", \"Y\", \"…\n",
      "$ DATE_PLANTED       \u001b[3m\u001b[90m<date>\u001b[39m\u001b[23m NA, NA, NA, NA, NA, NA, NA, NA, NA, NA, NA, NA, NA…\n",
      "$ Geom               \u001b[3m\u001b[90m<chr>\u001b[39m\u001b[23m \"{\\\"\\\"coordinates\\\"\\\": [-123.088692, 49.253756], \\\"…\n"
     ]
    }
   ],
   "source": [
    "street_trees_data <- fread(\"https://opendata.vancouver.ca/explore/dataset/street-trees/download/?format=csv&timezone=America/Los_Angeles&lang=en&use_labels_for_header=true&csv_separator=%3B\")\n",
    "\n",
    "glimpse(street_trees_data)"
   ]
  },
  {
   "cell_type": "markdown",
   "id": "2330adaf",
   "metadata": {},
   "source": [
    "As we can see that our original data set contains lots of irrelevant data in our statistical investigation as we only need `CURB` and `DIAMETER`. Also, it will most likely not contain `NA` values in our dataset as it is a data collected by the City of Vancouver, we are going to filter out all `NA` values using the function `!is.na()`."
   ]
  },
  {
   "cell_type": "code",
   "execution_count": 3,
   "id": "03f56630",
   "metadata": {},
   "outputs": [
    {
     "data": {
      "text/html": [
       "<table class=\"dataframe\">\n",
       "<caption>A data.table: 6 × 2</caption>\n",
       "<thead>\n",
       "\t<tr><th scope=col>CURB</th><th scope=col>DIAMETER</th></tr>\n",
       "\t<tr><th scope=col>&lt;chr&gt;</th><th scope=col>&lt;dbl&gt;</th></tr>\n",
       "</thead>\n",
       "<tbody>\n",
       "\t<tr><td>Y</td><td>12.0</td></tr>\n",
       "\t<tr><td>Y</td><td>29.0</td></tr>\n",
       "\t<tr><td>Y</td><td>27.0</td></tr>\n",
       "\t<tr><td>Y</td><td>32.0</td></tr>\n",
       "\t<tr><td>Y</td><td>14.5</td></tr>\n",
       "\t<tr><td>Y</td><td>27.0</td></tr>\n",
       "</tbody>\n",
       "</table>\n"
      ],
      "text/latex": [
       "A data.table: 6 × 2\n",
       "\\begin{tabular}{ll}\n",
       " CURB & DIAMETER\\\\\n",
       " <chr> & <dbl>\\\\\n",
       "\\hline\n",
       "\t Y & 12.0\\\\\n",
       "\t Y & 29.0\\\\\n",
       "\t Y & 27.0\\\\\n",
       "\t Y & 32.0\\\\\n",
       "\t Y & 14.5\\\\\n",
       "\t Y & 27.0\\\\\n",
       "\\end{tabular}\n"
      ],
      "text/markdown": [
       "\n",
       "A data.table: 6 × 2\n",
       "\n",
       "| CURB &lt;chr&gt; | DIAMETER &lt;dbl&gt; |\n",
       "|---|---|\n",
       "| Y | 12.0 |\n",
       "| Y | 29.0 |\n",
       "| Y | 27.0 |\n",
       "| Y | 32.0 |\n",
       "| Y | 14.5 |\n",
       "| Y | 27.0 |\n",
       "\n"
      ],
      "text/plain": [
       "  CURB DIAMETER\n",
       "1 Y    12.0    \n",
       "2 Y    29.0    \n",
       "3 Y    27.0    \n",
       "4 Y    32.0    \n",
       "5 Y    14.5    \n",
       "6 Y    27.0    "
      ]
     },
     "metadata": {},
     "output_type": "display_data"
    }
   ],
   "source": [
    "set.seed(1234)\n",
    "\n",
    "tidy_street_trees <- \n",
    "    street_trees_data %>%\n",
    "    filter(!is.na(DIAMETER)) %>%\n",
    "    select(CURB, DIAMETER)\n",
    "head(tidy_street_trees)"
   ]
  },
  {
   "cell_type": "markdown",
   "id": "bae9df1c",
   "metadata": {},
   "source": [
    "_As our data is tidied up, we are going to first visualise our data using `boxplot()` (code that creates side-by-side bar graph) in order to see whether there are any outliers that may impact our investigation._"
   ]
  },
  {
   "cell_type": "markdown",
   "id": "89a8aac1",
   "metadata": {},
   "source": [
    " ## <span style=\"color:red\"> log() boxplot comparison </span>"
   ]
  },
  {
   "cell_type": "code",
   "execution_count": 11,
   "id": "8cdad57a",
   "metadata": {},
   "outputs": [
    {
     "name": "stderr",
     "output_type": "stream",
     "text": [
      "Warning message:\n",
      "“Removed 39 rows containing non-finite values (stat_boxplot).”\n"
     ]
    },
    {
     "data": {
      "image/png": "[encoded data removed]",
      "text/plain": [
       "plot without title"
      ]
     },
     "metadata": {
      "image/png": {
       "height": 480,
       "width": 960
      }
     },
     "output_type": "display_data"
    }
   ],
   "source": [
    "set.seed(1234)\n",
    "options(repr.plot.width = 16, repr.plot.height = 8)\n",
    "\n",
    "tree_curb_Y <- \n",
    "    tidy_street_trees %>%\n",
    "    filter(CURB == \"Y\") \n",
    "\n",
    "tree_curb_N <- \n",
    "    tidy_street_trees %>%\n",
    "    filter(CURB == \"N\") \n",
    "\n",
    "original_dist_plot <- ggplot(tidy_street_trees) +\n",
    "    geom_boxplot(aes(x = CURB, y = DIAMETER, colour = CURB)) +\n",
    "    ggtitle(\"Boxplot Of The Diametre Of A Tree In Regards Whether They Are Planted On A Curb\") +\n",
    "    xlab(\"Whether Or Not A Tree Is Planted On A Curb\") +\n",
    "    ylab(\"Diametre of a tree (in inches)\")\n",
    "\n",
    "log_dist_plot <- ggplot(tidy_street_trees) +\n",
    "    geom_boxplot(aes(x = CURB, y = log(DIAMETER), colour = CURB)) +\n",
    "    ggtitle(\"Boxplot Of Log Diametre Of A Tree In Regards Whether They Are Planted On A Curb\") +\n",
    "    xlab(\"Whether Or Not A Tree Is Planted On A Curb\") +\n",
    "    ylab(\"Log Diametre of a tree (in inches)\")\n",
    "\n",
    "plot_grid(original_dist_plot, log_dist_plot)"
   ]
  },
  {
   "cell_type": "markdown",
   "id": "b5fa8eae",
   "metadata": {},
   "source": [
    "Through the boxplot above, we can tell there are some observations classified as outliers (Separated dots in both boxplots indicate the outliers). This means that using median as our measure of centre is better option than the mean as the median \"is not affected by the precise numerical values of the outliers\" (Illowsky & Dean, n.d.). Therefore, in our investigation, we will be utilising median as our measure of centre. As we now know that there are lots of outliers at the upper tail region, we will create histograms in order to see the trend of the distribution effectively and more visually."
   ]
  },
  {
   "cell_type": "markdown",
   "id": "5feed696",
   "metadata": {},
   "source": [
    " ## <span style=\"color:red\"> !! add a vertical line at mean</span>"
   ]
  },
  {
   "cell_type": "code",
   "execution_count": 8,
   "id": "cb1c1be7",
   "metadata": {},
   "outputs": [
    {
     "name": "stderr",
     "output_type": "stream",
     "text": [
      "Warning message:\n",
      "“Removed 2 rows containing missing values (geom_bar).”\n",
      "Warning message:\n",
      "“Removed 2 rows containing missing values (geom_bar).”\n"
     ]
    },
    {
     "data": {
      "image/png": "[encoded data removed]",
      "text/plain": [
       "plot without title"
      ]
     },
     "metadata": {
      "image/png": {
       "height": 600,
       "width": 1020
      }
     },
     "output_type": "display_data"
    }
   ],
   "source": [
    "set.seed(1234)\n",
    "options(repr.plot.width = 17, repr.plot.height = 10)\n",
    "\n",
    "tree_curb_Y_histo <- \n",
    "    tree_curb_Y %>%\n",
    "    ggplot() +\n",
    "        geom_histogram(aes(DIAMETER), colour = \"#FF9999\", fill = \"#FF9999\", alpha = .95 ,bins = 30) +\n",
    "        labs(x = 'Diametre of a tree (in inches)',\n",
    "             title = 'Histogram Of The Diametre Of A Tree In Are Planted On A Curb') +\n",
    "        scale_x_continuous(limits = c(0, 350)) +\n",
    "        theme_bw() +\n",
    "        theme(text = element_text(size = 15))\n",
    "\n",
    "tree_curb_N_histo <- \n",
    "    tree_curb_N %>%\n",
    "    ggplot() +\n",
    "        geom_histogram(aes(DIAMETER), colour = \"#00FFFF\", fill = \"#00FFFF\", alpha = .95 ,bins = 30) +\n",
    "        labs(x = 'Diametre of a tree (in inches)',\n",
    "             title = 'Histogram Of The Diametre Of A Tree In Are Not Planted On A Curb') +\n",
    "        scale_x_continuous(limits = c(0, 350)) +\n",
    "        theme_bw() +\n",
    "        theme(text = element_text(size = 15))\n",
    "\n",
    "tree_curb_histo <- plot_grid(tree_curb_Y_histo, tree_curb_N_histo, scale = 0.95)\n",
    "tree_curb_histo"
   ]
  },
  {
   "cell_type": "code",
   "execution_count": null,
   "id": "4d1c52b3",
   "metadata": {},
   "outputs": [
    {
     "name": "stderr",
     "output_type": "stream",
     "text": [
      "Setting `type = \"bootstrap\"` in `generate()`.\n",
      "\n"
     ]
    }
   ],
   "source": [
    "##change to mean\n",
    "\n",
    "set.seed(1234)\n",
    "options(repr.plot.width = 15, repr.plot.height = 5)\n",
    "\n",
    "bootstrap_distribution_Y <- tree_curb_Y %>% \n",
    "  specify(response = DIAMETER) %>% \n",
    "  generate(reps = 200) %>% \n",
    "  calculate(stat = \"mean\") %>%\n",
    "  visualise()\n",
    "\n",
    "bootstrap_distribution_N <- tree_curb_N %>% \n",
    "  specify(response = DIAMETER) %>% \n",
    "  generate(reps = 200) %>% \n",
    "  calculate(stat = \"mean\") %>%\n",
    "  visualise()\n",
    "\n",
    "tree_curb_bootstrap_dist <- plot_grid(bootstrap_distribution_Y, bootstrap_distribution_N)\n",
    "tree_curb_bootstrap_dist"
   ]
  },
  {
   "cell_type": "markdown",
   "id": "efcc007d",
   "metadata": {},
   "source": [
    "As we can see from histograms above that we visualised a bootstrap distribution of sample medians (`stat` in our x-axis labelling represents the median values) of each categories (`CRUB == \"Y\"` and `CRUB == \"N\"`), the graph became more normal shape than it's original observation data. The histograms above follow to some extent normal shape than the histogram from original street tree sample, it does not exactly demonstrates an ideal normal distribution graph as due to small number of repitition. This limitation occurred due to limitation of our kurnel that only allows up to approximately 200 `reps`."
   ]
  },
  {
   "cell_type": "markdown",
   "id": "165cd279",
   "metadata": {},
   "source": [
    "### Contructing Hypothesis test"
   ]
  },
  {
   "cell_type": "markdown",
   "id": "8aa12cb0",
   "metadata": {},
   "source": [
    "First, our population parameter of interest is the difference in population means of tree diameters $d_{y}$ - $d_{n}$, where $d_{y}$ is the mean of diameters of trees on the curb, and $d_{n}$ is of trees not on the curb. Then, we set the null hypothesis $H_{0}$ to be that there is no difference in means of diameters of trees on and not on the curb. And the alternative hypothesis $H_{A}$ to be that there is a difference. "
   ]
  },
  {
   "cell_type": "markdown",
   "id": "326827d2",
   "metadata": {},
   "source": [
    "$H_{0} : d_{y} - d_{n} = 0 $"
   ]
  },
  {
   "cell_type": "markdown",
   "id": "01927481",
   "metadata": {},
   "source": [
    "$H_{A} : d_{y} - d_{n} \\neq 0 $"
   ]
  },
  {
   "cell_type": "markdown",
   "id": "38c8bd75",
   "metadata": {},
   "source": [
    "_We first count the numbers of trees planted on and not on the curb respectively in `tidy_street_trees` to get a picture of our data._"
   ]
  },
  {
   "cell_type": "code",
   "execution_count": null,
   "id": "15b51f7e",
   "metadata": {},
   "outputs": [],
   "source": [
    "set.seed(1234)\n",
    "\n",
    "tree_count <-\n",
    "    tidy_street_trees %>% \n",
    "    count(CURB)\n",
    "\n",
    "tree_count"
   ]
  },
  {
   "cell_type": "markdown",
   "id": "9b054b5a",
   "metadata": {},
   "source": [
    "_Then, calculate the observed test statistic (median of trees on the curb minus median of trees not on the curb)  using `tidy_street_trees` with the `infer` package._"
   ]
  },
  {
   "cell_type": "code",
   "execution_count": null,
   "id": "fb8c1ab9",
   "metadata": {},
   "outputs": [],
   "source": [
    "set.seed(1234)\n",
    "\n",
    "obs_diff_in_means <- tidy_street_trees %>%\n",
    "    specify(formula = DIAMETER ~ CURB) %>%\n",
    "    calculate(stat = \"diff in means\", order = c(\"Y\", \"N\"))\n",
    "\n",
    "obs_diff_in_means"
   ]
  },
  {
   "cell_type": "markdown",
   "id": "c4cd3989",
   "metadata": {},
   "source": [
    "_Next, generate the null distribution with 100 samples and calculate mean of trees on the curb minus mean of trees not on the curb, using `tidy_street_trees` with the `infer` package._"
   ]
  },
  {
   "cell_type": "code",
   "execution_count": null,
   "id": "cbb4b7bb",
   "metadata": {},
   "outputs": [],
   "source": [
    "set.seed(1234)\n",
    "\n",
    "null_diff_in_means <- \n",
    "    tidy_street_trees %>%\n",
    "    specify(formula = DIAMETER ~ CURB) %>%\n",
    "    hypothesize(null = \"independence\") %>%\n",
    "    generate(reps = 100, type = \"permute\") %>%\n",
    "    calculate(stat = \"diff in means\", order = c(\"Y\", \"N\"))\n",
    "\n",
    "head(null_diff_in_means)"
   ]
  },
  {
   "cell_type": "markdown",
   "id": "4b633204",
   "metadata": {},
   "source": [
    "_Visualize the result of the hypothesis test with a vertical bar for the observed test statistic, and shade the tails._"
   ]
  },
  {
   "cell_type": "code",
   "execution_count": null,
   "id": "e31b5d23",
   "metadata": {},
   "outputs": [],
   "source": [
    "set.seed(1234)\n",
    "options(repr.plot.width = 15, repr.plot.height = 5.5)\n",
    "\n",
    "diff_in_means_plot <-\n",
    "        visualize(null_diff_in_means, bins = 30) +\n",
    "        shade_p_value(obs_stat = obs_diff_in_means, direction = \"both\") +\n",
    "        xlab(\"Difference in Means\") +\n",
    "        theme(text = element_text(size = 18))\n",
    "\n",
    "diff_in_means_plot"
   ]
  },
  {
   "cell_type": "markdown",
   "id": "f1122a30",
   "metadata": {},
   "source": [
    "_We then are able to obtain the p-value of the observed test statistic (`obs_diff_in_means`) from the null distribution of means (`null_diff_in_means`)._"
   ]
  },
  {
   "cell_type": "code",
   "execution_count": null,
   "id": "0e0a45bd",
   "metadata": {},
   "outputs": [],
   "source": [
    "set.seed(1234)\n",
    "\n",
    "p_val_diff_means <- \n",
    "    null_diff_in_means %>% \n",
    "    get_p_value(obs_stat = obs_diff_in_means, direction = \"both\")\n",
    "\n",
    "p_val_diff_means"
   ]
  },
  {
   "cell_type": "markdown",
   "id": "03798685",
   "metadata": {},
   "source": [
    "Given that we now obtain a p-value of 0 just through computing p-value analysis using r. However, as we are using 100 repetitions to calculate the sample, we are going to report that p-value is < 0.01. P-value being less than 0.01 is smaller than our pre-specified significance level of $\\alpha = 0.05$, we now can conclude that we reject $H_{0}$ at the 5% significance level. In other words, we reject the $H_{0}$, which there is no difference between medians of tree diameters on and not on the curb, at a significance level of $\\alpha = 0.05$."
   ]
  },
  {
   "cell_type": "markdown",
   "id": "a70bdf10",
   "metadata": {},
   "source": [
    " ## <span style=\"color:red\"> !! add t-test analysis</span>"
   ]
  },
  {
   "cell_type": "markdown",
   "id": "8c25b6ce",
   "metadata": {},
   "source": [
    " ## <span style=\"color:red\"> !! add p-value comparison analysis</span>"
   ]
  },
  {
   "cell_type": "markdown",
   "id": "202c2e05",
   "metadata": {},
   "source": [
    "### Computing Confidence Interval"
   ]
  },
  {
   "cell_type": "markdown",
   "id": "fd0c1d79",
   "metadata": {},
   "source": [
    "Next, we are going to contruct a 95% confidence Interval to try to capture the true population difference in mean of diameters of trees on and not on the curb. First, find the bootstrap distribution for the difference in means with the `infer` package."
   ]
  },
  {
   "cell_type": "code",
   "execution_count": null,
   "id": "f873398d",
   "metadata": {},
   "outputs": [],
   "source": [
    "set.seed(1234)\n",
    "\n",
    "diff_in_means_bootstrap_dist <-\n",
    "    tidy_street_trees %>% \n",
    "    specify(formula = DIAMETER ~ CURB) %>%\n",
    "    generate(reps = 100, type = \"bootstrap\") %>%\n",
    "    calculate(stat = \"diff in means\", order = c(\"Y\", \"N\"))\n",
    "\n",
    "head(diff_in_means_bootstrap_dist)"
   ]
  },
  {
   "cell_type": "markdown",
   "id": "aa1bc30a",
   "metadata": {},
   "source": [
    "_Then, obtain the 95% confidence interval for the difference in mean._"
   ]
  },
  {
   "cell_type": "code",
   "execution_count": null,
   "id": "f3e82c46",
   "metadata": {},
   "outputs": [],
   "source": [
    "set.seed(1234)\n",
    "\n",
    "diff_in_means_ci <-\n",
    "    diff_in_means_bootstrap_dist %>%\n",
    "    summarise(lower_ci = quantile(stat, 0.025), upper_ci = quantile(stat, 0.975))\n",
    "\n",
    "diff_in_means_ci"
   ]
  },
  {
   "cell_type": "markdown",
   "id": "2e2ac2f0",
   "metadata": {},
   "source": [
    "_Visualize the confidence interval (`diff_in_means_ci`) with the bootstrap distribution (`diff_in_means_bootstrap_dist`)._"
   ]
  },
  {
   "cell_type": "code",
   "execution_count": null,
   "id": "0fd236a7",
   "metadata": {},
   "outputs": [],
   "source": [
    "set.seed(1234)\n",
    "\n",
    "diff_in_means_ci_plot <-\n",
    "        visualize(diff_in_means_bootstrap_dist) + \n",
    "    shade_confidence_interval(endpoints = diff_in_means_ci) +\n",
    "    xlab(\"Difference in Means\") +\n",
    "    theme(text = element_text(size = 18))\n",
    "\n",
    "diff_in_means_ci_plot"
   ]
  },
  {
   "cell_type": "markdown",
   "id": "9e9e8166",
   "metadata": {},
   "source": [
    "## Discussion"
   ]
  },
  {
   "cell_type": "code",
   "execution_count": null,
   "id": "f0b0150e",
   "metadata": {},
   "outputs": [],
   "source": []
  },
  {
   "cell_type": "code",
   "execution_count": null,
   "id": "6838a9d9",
   "metadata": {},
   "outputs": [],
   "source": []
  },
  {
   "cell_type": "code",
   "execution_count": null,
   "id": "5bf8f0f6",
   "metadata": {},
   "outputs": [],
   "source": []
  },
  {
   "cell_type": "code",
   "execution_count": null,
   "id": "5232ce10",
   "metadata": {},
   "outputs": [],
   "source": []
  },
  {
   "cell_type": "code",
   "execution_count": null,
   "id": "810d890f",
   "metadata": {},
   "outputs": [],
   "source": []
  },
  {
   "cell_type": "code",
   "execution_count": null,
   "id": "a76867d4",
   "metadata": {},
   "outputs": [],
   "source": []
  },
  {
   "cell_type": "markdown",
   "id": "391e357c",
   "metadata": {},
   "source": [
    "## References and Appendix"
   ]
  },
  {
   "cell_type": "markdown",
   "id": "c0230e32",
   "metadata": {},
   "source": [
    "_All in-text citation and references are written in  APA 7 (American Psychological Association 7th edition) style_"
   ]
  },
  {
   "cell_type": "markdown",
   "id": "800a70e3",
   "metadata": {},
   "source": [
    "Illowsky, B., & Dean, S. (n.d.). 2.6: Measures of the Center of the Data. In _Introductory Statistics_. De Anza College: LibreTexts. Retrieved July 22, 2022, from https://stats.libretexts.org/Bookshelves/Introductory_Statistics/Book%3A_Introductory_Statistics_(OpenStax)/02%3A_Descriptive_Statistics/2.06%3A_Measures_of_the_Center_of_the_Data"
   ]
  },
  {
   "cell_type": "code",
   "execution_count": null,
   "id": "2288464c",
   "metadata": {},
   "outputs": [],
   "source": []
  }
 ],
 "metadata": {
  "kernelspec": {
   "display_name": "R",
   "language": "R",
   "name": "ir"
  },
  "language_info": {
   "codemirror_mode": "r",
   "file_extension": ".r",
   "mimetype": "text/x-r-source",
   "name": "R",
   "pygments_lexer": "r",
   "version": "4.0.5"
  }
 },
 "nbformat": 4,
 "nbformat_minor": 5
}
