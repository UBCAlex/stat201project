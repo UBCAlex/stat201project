{
 "cells": [
  {
   "cell_type": "markdown",
   "id": "2c7928b6-d430-4f48-8fe0-25f6c5bf84e1",
   "metadata": {},
   "source": [
    "# _STAT 201 Group Project_"
   ]
  },
  {
   "cell_type": "markdown",
   "id": "584d068f-ee36-4e95-89a3-f86ebb763c3b",
   "metadata": {},
   "source": [
    "##### _Group 31: Alexandr Kim, Yingshan Wu, Yang Lei, Harbor Zhang_"
   ]
  },
  {
   "cell_type": "markdown",
   "id": "0f4acb70-625b-4520-81b4-f4c9f22bace9",
   "metadata": {},
   "source": [
    "## Introduction"
   ]
  },
  {
   "cell_type": "code",
   "execution_count": null,
   "id": "e309df70-8299-4d1b-b9d0-9b2108d2e9fe",
   "metadata": {},
   "outputs": [],
   "source": []
  },
  {
   "cell_type": "code",
   "execution_count": null,
   "id": "f05215a2-f5a1-4df9-bce3-e75808d7527f",
   "metadata": {},
   "outputs": [],
   "source": []
  },
  {
   "cell_type": "markdown",
   "id": "ef4f1414-06f3-4148-9424-a3ecad9b2f58",
   "metadata": {},
   "source": [
    "## Methods and Results"
   ]
  },
  {
   "cell_type": "code",
   "execution_count": null,
   "id": "f0bcd5ad-9312-4ef2-808e-56095c9cd796",
   "metadata": {},
   "outputs": [],
   "source": []
  },
  {
   "cell_type": "code",
   "execution_count": null,
   "id": "21a498d4-f751-4a94-a1d4-b0cfa9de4e4d",
   "metadata": {},
   "outputs": [],
   "source": []
  },
  {
   "cell_type": "markdown",
   "id": "9aca6d42-8e9e-459b-8a8c-852f762c55ca",
   "metadata": {},
   "source": [
    "## Discussion"
   ]
  },
  {
   "cell_type": "code",
   "execution_count": null,
   "id": "6bae69bd-ccb6-4440-a3e4-97cc292d5a83",
   "metadata": {},
   "outputs": [],
   "source": []
  },
  {
   "cell_type": "code",
   "execution_count": null,
   "id": "b4cd0edc-9a00-443d-854c-e09da28b810a",
   "metadata": {},
   "outputs": [],
   "source": []
  },
  {
   "cell_type": "code",
   "execution_count": null,
   "id": "4f0e8830-74eb-4434-ba6a-be8b0e28210d",
   "metadata": {},
   "outputs": [],
   "source": []
  },
  {
   "cell_type": "code",
   "execution_count": null,
   "id": "5c5fcfd0-b3ec-4be1-83db-4ea9ba051a83",
   "metadata": {},
   "outputs": [],
   "source": []
  },
  {
   "cell_type": "code",
   "execution_count": null,
   "id": "b8dc1026-9c76-4f40-9fcc-6e302e02d14f",
   "metadata": {},
   "outputs": [],
   "source": []
  }
 ],
 "metadata": {
  "kernelspec": {
   "display_name": "R",
   "language": "R",
   "name": "ir"
  },
  "language_info": {
   "codemirror_mode": "r",
   "file_extension": ".r",
   "mimetype": "text/x-r-source",
   "name": "R",
   "pygments_lexer": "r",
   "version": "4.0.5"
  }
 },
 "nbformat": 4,
 "nbformat_minor": 5
}
