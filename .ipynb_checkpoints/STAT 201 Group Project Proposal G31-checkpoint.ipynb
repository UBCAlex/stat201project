{
 "cells": [
  {
   "cell_type": "markdown",
   "id": "c9f52ebe-3078-4406-8698-08fd9f84267d",
   "metadata": {},
   "source": [
    "# _STAT 201 Group Project Proposal_"
   ]
  },
  {
   "cell_type": "markdown",
   "id": "59e74fbd-30ac-4da6-abb0-907af941d89f",
   "metadata": {},
   "source": [
    "##### _Group 31: Alexandr Kim, Yingshan Wu, Yang Lei, Harbor Zhang_"
   ]
  },
  {
   "cell_type": "markdown",
   "id": "00c074da-1ad6-4a08-a9e3-74dcadc7e1c4",
   "metadata": {},
   "source": [
    "## Introduction"
   ]
  },
  {
   "cell_type": "markdown",
   "id": "6772db56-813c-4535-80cb-bdf8819ceacb",
   "metadata": {},
   "source": [
    "In our statistical investigation, we will be looking at street trees dataset provided by the City of Vancouver (See __Appendix A__). The street tree dataset lists out the information about the trees that are located within city of Vancouver with diverse classifications such as species name of the tree, common name, number of trees on street side name, and number of trees on different neighbourhood. We are going to select the `CURB` (which classifies the data into 2 category of whether or not the tree is located at the curb) and evaluating it with the `DIAMETER` (in inches). Using this data set, we are going to mainely use `infer`, `tidyverse`, and `ggplot2` packages in order to compute hypothesis testing utilising difference in medians of two type of trees that we selected under the significance level of 95% ($\\alpha$ = 0.95) to answer an inferential question: \"Are the diametres of trees at the curb different from those which are not located at the curb?\". And later on, we are also going to contruct a 95% confidence interval to capture the true difference in medians of tree diameters on and not on the curb."
   ]
  },
  {
   "cell_type": "markdown",
   "id": "22e1e941-fdb9-4f83-9815-01fb0a8211cc",
   "metadata": {},
   "source": [
    "## Preliminary Results"
   ]
  },
  {
   "cell_type": "markdown",
   "id": "20cf534c-fb17-406b-b772-a37dd338f3ba",
   "metadata": {},
   "source": [
    "_Loading in the necessary libraries for this data analysis_"
   ]
  },
  {
   "cell_type": "code",
   "execution_count": 1,
   "id": "bc559b54-5eff-4c41-a890-b59e015694b6",
   "metadata": {},
   "outputs": [
    {
     "name": "stderr",
     "output_type": "stream",
     "text": [
      "── \u001b[1mAttaching packages\u001b[22m ─────────────────────────────────────── tidyverse 1.3.2 ──\n",
      "\u001b[32m✔\u001b[39m \u001b[34mggplot2\u001b[39m 3.3.6     \u001b[32m✔\u001b[39m \u001b[34mpurrr  \u001b[39m 0.3.4\n",
      "\u001b[32m✔\u001b[39m \u001b[34mtibble \u001b[39m 3.1.7     \u001b[32m✔\u001b[39m \u001b[34mdplyr  \u001b[39m 1.0.9\n",
      "\u001b[32m✔\u001b[39m \u001b[34mtidyr  \u001b[39m 1.2.0     \u001b[32m✔\u001b[39m \u001b[34mstringr\u001b[39m 1.4.0\n",
      "\u001b[32m✔\u001b[39m \u001b[34mreadr  \u001b[39m 2.1.2     \u001b[32m✔\u001b[39m \u001b[34mforcats\u001b[39m 0.5.1\n",
      "── \u001b[1mConflicts\u001b[22m ────────────────────────────────────────── tidyverse_conflicts() ──\n",
      "\u001b[31m✖\u001b[39m \u001b[34mdplyr\u001b[39m::\u001b[32mfilter()\u001b[39m masks \u001b[34mstats\u001b[39m::filter()\n",
      "\u001b[31m✖\u001b[39m \u001b[34mdplyr\u001b[39m::\u001b[32mlag()\u001b[39m    masks \u001b[34mstats\u001b[39m::lag()\n",
      "\n",
      "Attaching package: ‘gridExtra’\n",
      "\n",
      "\n",
      "The following object is masked from ‘package:dplyr’:\n",
      "\n",
      "    combine\n",
      "\n",
      "\n",
      "\n",
      "Attaching package: ‘data.table’\n",
      "\n",
      "\n",
      "The following objects are masked from ‘package:dplyr’:\n",
      "\n",
      "    between, first, last\n",
      "\n",
      "\n",
      "The following object is masked from ‘package:purrr’:\n",
      "\n",
      "    transpose\n",
      "\n",
      "\n"
     ]
    }
   ],
   "source": [
    "library(tidyverse)\n",
    "library(cowplot)\n",
    "library(gridExtra)\n",
    "library(infer)\n",
    "library(repr)\n",
    "library(ggplot2)\n",
    "library(data.table)"
   ]
  },
  {
   "cell_type": "markdown",
   "id": "ffe3e527-b7b0-4b2d-a825-b979b6e95e0a",
   "metadata": {},
   "source": [
    "While loading the library and shows error that the R cannot load a package, go to __Appendix B__ and install all relevant packages for this statistical investigation."
   ]
  },
  {
   "cell_type": "markdown",
   "id": "5191c615-e9a9-4679-a44e-9d4d05d0321c",
   "metadata": {},
   "source": [
    "_Tidying up the `street_trees_data` for our investigation_"
   ]
  },
  {
   "cell_type": "code",
   "execution_count": 2,
   "id": "9b75b75d-cafb-4def-accc-1467e9c9e1d1",
   "metadata": {},
   "outputs": [
    {
     "name": "stdout",
     "output_type": "stream",
     "text": [
      "Rows: 151,196\n",
      "Columns: 19\n",
      "$ TREE_ID            \u001b[3m\u001b[90m<int>\u001b[39m\u001b[23m 8033, 8034, 8041, 8065, 8070, 8071, 8075, 8076, 807…\n",
      "$ CIVIC_NUMBER       \u001b[3m\u001b[90m<int>\u001b[39m\u001b[23m 1587, 1587, 1587, 1850, 1850, 1825, 1855, 1855, 185…\n",
      "$ STD_STREET         \u001b[3m\u001b[90m<chr>\u001b[39m\u001b[23m \"W 8TH AV\", \"W 8TH AV\", \"W 8TH AV\", \"W 8TH AV\", \"W …\n",
      "$ GENUS_NAME         \u001b[3m\u001b[90m<chr>\u001b[39m\u001b[23m \"CARPINUS\", \"CARPINUS\", \"CARPINUS\", \"PRUNUS\", \"PRUN…\n",
      "$ SPECIES_NAME       \u001b[3m\u001b[90m<chr>\u001b[39m\u001b[23m \"BETULUS\", \"BETULUS\", \"BETULUS\", \"SERRULATA\", \"SERR…\n",
      "$ CULTIVAR_NAME      \u001b[3m\u001b[90m<chr>\u001b[39m\u001b[23m \"\", \"\", \"\", \"KWANZAN\", \"KWANZAN\", \"KWANZAN\", \"KWANZ…\n",
      "$ COMMON_NAME        \u001b[3m\u001b[90m<chr>\u001b[39m\u001b[23m \"EUROPEAN HORNBEAM\", \"EUROPEAN HORNBEAM\", \"EUROPEAN…\n",
      "$ ASSIGNED           \u001b[3m\u001b[90m<chr>\u001b[39m\u001b[23m \"N\", \"N\", \"N\", \"N\", \"N\", \"N\", \"N\", \"N\", \"N\", \"N\", \"…\n",
      "$ ROOT_BARRIER       \u001b[3m\u001b[90m<chr>\u001b[39m\u001b[23m \"N\", \"N\", \"N\", \"N\", \"N\", \"N\", \"N\", \"N\", \"N\", \"N\", \"…\n",
      "$ PLANT_AREA         \u001b[3m\u001b[90m<chr>\u001b[39m\u001b[23m \"B\", \"B\", \"B\", \"3\", \"6\", \"6\", \"6\", \"6\", \"6\", \"6\", \"…\n",
      "$ ON_STREET_BLOCK    \u001b[3m\u001b[90m<int>\u001b[39m\u001b[23m 1500, 1500, 2300, 1800, 1800, 1800, 1800, 1800, 180…\n",
      "$ ON_STREET          \u001b[3m\u001b[90m<chr>\u001b[39m\u001b[23m \"W 8TH AV\", \"W 8TH AV\", \"FIR ST\", \"W 8TH AV\", \"W 8T…\n",
      "$ NEIGHBOURHOOD_NAME \u001b[3m\u001b[90m<chr>\u001b[39m\u001b[23m \"FAIRVIEW\", \"FAIRVIEW\", \"FAIRVIEW\", \"KITSILANO\", \"K…\n",
      "$ STREET_SIDE_NAME   \u001b[3m\u001b[90m<chr>\u001b[39m\u001b[23m \"ODD\", \"ODD\", \"EVEN\", \"EVEN\", \"EVEN\", \"ODD\", \"ODD\",…\n",
      "$ HEIGHT_RANGE_ID    \u001b[3m\u001b[90m<int>\u001b[39m\u001b[23m 5, 5, 4, 2, 2, 2, 2, 2, 2, 2, 2, 2, 2, 2, 2, 4, 3, …\n",
      "$ DIAMETER           \u001b[3m\u001b[90m<dbl>\u001b[39m\u001b[23m 18.00, 18.00, 9.00, 13.00, 11.00, 15.00, 14.00, 14.…\n",
      "$ CURB               \u001b[3m\u001b[90m<chr>\u001b[39m\u001b[23m \"Y\", \"Y\", \"Y\", \"Y\", \"Y\", \"Y\", \"Y\", \"Y\", \"Y\", \"Y\", \"…\n",
      "$ DATE_PLANTED       \u001b[3m\u001b[90m<date>\u001b[39m\u001b[23m NA, NA, NA, NA, NA, NA, NA, NA, NA, NA, NA, NA, NA…\n",
      "$ Geom               \u001b[3m\u001b[90m<chr>\u001b[39m\u001b[23m \"{\\\"\\\"coordinates\\\"\\\": [-123.140781, 49.264628], \\\"…\n"
     ]
    }
   ],
   "source": [
    "street_trees_data <- fread(\"https://opendata.vancouver.ca/explore/dataset/street-trees/download/?format=csv&timezone=America/Los_Angeles&lang=en&use_labels_for_header=true&csv_separator=%3B\")\n",
    "\n",
    "glimpse(street_trees_data)"
   ]
  },
  {
   "cell_type": "markdown",
   "id": "ed84eb46-14c0-4586-aa40-14dc24de6180",
   "metadata": {},
   "source": [
    "As we can see that our original data set contains lots of irrelevant data in our statistical investigation as we only need `CURB` and `DIAMETER`. Also, it will most likely not contain `NA` values in our dataset as it is a data collected by the City of Vancouver, we are going to filter out all `NA` values using the function `!is.na()`."
   ]
  },
  {
   "cell_type": "code",
   "execution_count": 3,
   "id": "80e0c8a5-d8b6-48e5-9b1f-3efd9820459f",
   "metadata": {},
   "outputs": [
    {
     "data": {
      "text/html": [
       "<table class=\"dataframe\">\n",
       "<caption>A data.table: 6 × 2</caption>\n",
       "<thead>\n",
       "\t<tr><th scope=col>CURB</th><th scope=col>DIAMETER</th></tr>\n",
       "\t<tr><th scope=col>&lt;chr&gt;</th><th scope=col>&lt;dbl&gt;</th></tr>\n",
       "</thead>\n",
       "<tbody>\n",
       "\t<tr><td>Y</td><td>18</td></tr>\n",
       "\t<tr><td>Y</td><td>18</td></tr>\n",
       "\t<tr><td>Y</td><td> 9</td></tr>\n",
       "\t<tr><td>Y</td><td>13</td></tr>\n",
       "\t<tr><td>Y</td><td>11</td></tr>\n",
       "\t<tr><td>Y</td><td>15</td></tr>\n",
       "</tbody>\n",
       "</table>\n"
      ],
      "text/latex": [
       "A data.table: 6 × 2\n",
       "\\begin{tabular}{ll}\n",
       " CURB & DIAMETER\\\\\n",
       " <chr> & <dbl>\\\\\n",
       "\\hline\n",
       "\t Y & 18\\\\\n",
       "\t Y & 18\\\\\n",
       "\t Y &  9\\\\\n",
       "\t Y & 13\\\\\n",
       "\t Y & 11\\\\\n",
       "\t Y & 15\\\\\n",
       "\\end{tabular}\n"
      ],
      "text/markdown": [
       "\n",
       "A data.table: 6 × 2\n",
       "\n",
       "| CURB &lt;chr&gt; | DIAMETER &lt;dbl&gt; |\n",
       "|---|---|\n",
       "| Y | 18 |\n",
       "| Y | 18 |\n",
       "| Y |  9 |\n",
       "| Y | 13 |\n",
       "| Y | 11 |\n",
       "| Y | 15 |\n",
       "\n"
      ],
      "text/plain": [
       "  CURB DIAMETER\n",
       "1 Y    18      \n",
       "2 Y    18      \n",
       "3 Y     9      \n",
       "4 Y    13      \n",
       "5 Y    11      \n",
       "6 Y    15      "
      ]
     },
     "metadata": {},
     "output_type": "display_data"
    }
   ],
   "source": [
    "set.seed(1234)\n",
    "\n",
    "tidy_street_trees <- \n",
    "    street_trees_data %>%\n",
    "    filter(!is.na(DIAMETER)) %>%\n",
    "    select(CURB, DIAMETER)\n",
    "head(tidy_street_trees)"
   ]
  },
  {
   "cell_type": "markdown",
   "id": "fbe1aeeb-1ad5-4172-b2ce-af3450b762f2",
   "metadata": {},
   "source": [
    "_As our data is tidied up, we are going to first visualise our data using `geom_boxplot()` in order to see whether there are any outliers that may impact our investigation._"
   ]
  },
  {
   "cell_type": "code",
   "execution_count": 4,
   "id": "d5440b8b-7fc5-4dcd-98f6-9173bf13b44b",
   "metadata": {},
   "outputs": [
    {
     "data": {
      "image/png": "[encoded data removed]",
      "text/plain": [
       "plot without title"
      ]
     },
     "metadata": {
      "image/png": {
       "height": 600,
       "width": 900
      }
     },
     "output_type": "display_data"
    }
   ],
   "source": [
    "set.seed(1234)\n",
    "options(repr.plot.width = 15, repr.plot.height = 10)\n",
    "\n",
    "tree_curb_Y <- \n",
    "    tidy_street_trees %>%\n",
    "    filter(CURB == \"Y\") \n",
    "\n",
    "tree_curb_Y_box <- \n",
    "    tree_curb_Y %>%\n",
    "    ggplot() +\n",
    "        geom_boxplot(outlier.color = 'red', \n",
    "                     aes(y = DIAMETER)) +\n",
    "        labs(y = 'Diametre of a tree (in inches)',\n",
    "             title = 'Boxplot Of The Diametre Of A Tree That Are Planted On A Curb') +\n",
    "        theme_bw() +\n",
    "        theme(text = element_text(size = 13)) \n",
    "\n",
    "tree_curb_N <- \n",
    "    tidy_street_trees %>%\n",
    "    filter(CURB == \"N\") \n",
    "\n",
    "tree_curb_N_box <- \n",
    "    tree_curb_N %>%\n",
    "    ggplot() +\n",
    "        geom_boxplot(outlier.color = 'red', \n",
    "                     aes(y = DIAMETER)) +\n",
    "        labs(y = 'Diametre of a tree (in inches)',\n",
    "             title = 'Boxplot Of The Diametre Of A Tree That Are Not Planted On A Curb') +\n",
    "        theme_bw() +\n",
    "        theme(text = element_text(size = 13)) \n",
    "\n",
    "tree_curb_box <- plot_grid(tree_curb_Y_box, tree_curb_N_box)\n",
    "tree_curb_box"
   ]
  },
  {
   "cell_type": "markdown",
   "id": "6cd283ae-9289-4538-9920-ec43bd5fe7ca",
   "metadata": {},
   "source": [
    "Through the boxplot above, we can tell there are some observations classified as outliers (Red dots in both boxplots indicate the outliers). This means that using median as our measure of centre is better option than the mean as the median \"is not affected by the precise numerical values of the outliers\" (Illowsky & Dean, n.d.). Therefore, in our investigation, we will be utilising median as our measure of centre. As we now know that there are lots of outliers at the upper tail region, we will create histograms in order to see the trend of the distribution effectively."
   ]
  },
  {
   "cell_type": "code",
   "execution_count": 5,
   "id": "817ab56c-a96f-473b-920e-efdea0ff35b6",
   "metadata": {},
   "outputs": [
    {
     "data": {
      "image/png": "[encoded data removed]",
      "text/plain": [
       "plot without title"
      ]
     },
     "metadata": {
      "image/png": {
       "height": 600,
       "width": 1020
      }
     },
     "output_type": "display_data"
    }
   ],
   "source": [
    "set.seed(1234)\n",
    "options(repr.plot.width = 17, repr.plot.height = 10)\n",
    "\n",
    "tree_curb_Y_histo <- \n",
    "    tree_curb_Y %>%\n",
    "    ggplot() +\n",
    "        geom_histogram(aes(DIAMETER), colour = \"#FF9999\", fill = \"#FF9999\", alpha = .95 ,bins = 30) +\n",
    "        labs(x = 'Diametre of a tree (in inches)',\n",
    "             title = 'Histogram Of The Diametre Of A Tree In Are Planted On A Curb') +\n",
    "        theme_bw() +\n",
    "        theme(text = element_text(size = 15))\n",
    "\n",
    "tree_curb_N_histo <- \n",
    "    tree_curb_N %>%\n",
    "    ggplot() +\n",
    "        geom_histogram(aes(DIAMETER), colour = \"#00FFFF\", fill = \"#00FFFF\", alpha = .95 ,bins = 30) +\n",
    "        labs(x = 'Diametre of a tree (in inches)',\n",
    "             title = 'Histogram Of The Diametre Of A Tree In Are Not Planted On A Curb') +\n",
    "        theme_bw() +\n",
    "        theme(text = element_text(size = 15))\n",
    "\n",
    "tree_curb_histo <- plot_grid(tree_curb_Y_histo, tree_curb_N_histo)\n",
    "tree_curb_histo"
   ]
  },
  {
   "cell_type": "markdown",
   "id": "f9fe713f-7b38-475d-ab9a-0997d0958934",
   "metadata": {},
   "source": [
    "After visualising the data into two histograms above, we can clearly tell that the observations are significantly right skewed. So, we are going to utilise sampling distribution of the medians. (EXPLAIN WHY THIS IS POSSIBLE)"
   ]
  },
  {
   "cell_type": "code",
   "execution_count": 6,
   "id": "be5adbd5-f4e8-49b2-a2a2-146020ff8dac",
   "metadata": {},
   "outputs": [
    {
     "data": {
      "image/png": "[encoded data removed]",
      "text/plain": [
       "plot without title"
      ]
     },
     "metadata": {
      "image/png": {
       "height": 300,
       "width": 900
      }
     },
     "output_type": "display_data"
    }
   ],
   "source": [
    "set.seed(1234)\n",
    "options(repr.plot.width = 15, repr.plot.height = 5)\n",
    "\n",
    "tree_curb_Y_1200 <- tree_curb_Y %>% \n",
    "    rep_sample_n(size = 1200, replace = FALSE) %>%\n",
    "    ungroup() %>% \n",
    "    select(DIAMETER)\n",
    "\n",
    "resampled_medians_Y_1200 <- tree_curb_Y_1200 %>% \n",
    "    rep_sample_n(size = 1200, reps = 10000, replace = TRUE) %>% \n",
    "    group_by(replicate) %>% \n",
    "    summarise(median_diametre_value = median(DIAMETER))\n",
    "\n",
    "bootstrap_dist_Y_1200 <- resampled_medians_Y_1200 %>%\n",
    "    ggplot(aes(x = median_diametre_value)) +\n",
    "    geom_histogram(colour = \"#FF9999\", fill = \"#FF9999\", alpha = .95 ,bins = 30) +\n",
    "    ggtitle(\"n = 1200 For Trees Located On A Curb\") +\n",
    "    xlab(\"Median of the diametre of A tree (in inches)\") +\n",
    "    theme_bw() +\n",
    "    theme(text = element_text(size = 15))\n",
    "\n",
    "tree_curb_N_1200 <- tree_curb_N %>% \n",
    "    rep_sample_n(size = 1200, replace = FALSE) %>%\n",
    "    ungroup() %>% \n",
    "    select(DIAMETER)\n",
    "\n",
    "resampled_medians_N_1200 <- tree_curb_N_1200 %>% \n",
    "    rep_sample_n(size = 1200, reps = 10000, replace = TRUE) %>% \n",
    "    group_by(replicate) %>% \n",
    "    summarise(median_diametre_value = median(DIAMETER))\n",
    "\n",
    "bootstrap_dist_N_1200 <- resampled_medians_N_1200 %>%\n",
    "    ggplot(aes(x = median_diametre_value)) +\n",
    "    geom_histogram(colour = \"#00FFFF\", fill = \"#00FFFF\", alpha = .95 ,bins = 30) +\n",
    "    ggtitle(\"n = 1200 For Trees Not Located On A Curb\") +\n",
    "    xlab(\"Median of the diametre of A tree (in inches)\") +\n",
    "    theme_bw() +\n",
    "    theme(text = element_text(size = 15))\n",
    "\n",
    "tree_curb_bootstrap_dist_1200 <- plot_grid(bootstrap_dist_Y_1200, bootstrap_dist_N_1200)\n",
    "tree_curb_bootstrap_dist_1200"
   ]
  },
  {
   "cell_type": "markdown",
   "id": "b0acc3f9-24ab-4403-8fce-fc849f743828",
   "metadata": {},
   "source": [
    "As we can see from histograms above that we visualised a bootstrap distribution of sample medians of each categories (`CRUB == \"Y\"` and `CRUB == \"N\"`), the graph became more normal shape than it's original observation data. The histograms above follow to some extent normal shape, it does not exactly demonstrates an ideal normal distribution graph as due to small sample size (0.79% of our original data observation). This limitation occurred due to big observation numbers that kernel cannot compute bigger sample size than 1200. However, still we can say that this to some extent follow a normal trend. Therefore, we will base our analysis around the median values that we obtain from the original sample."
   ]
  },
  {
   "cell_type": "markdown",
   "id": "416170ff-c7cb-45d1-b3d5-4637f880ecec",
   "metadata": {},
   "source": [
    "### Contructing Hypothesis test"
   ]
  },
  {
   "cell_type": "markdown",
   "id": "c12cba95-c3bd-4c5f-9c4e-865a0f4f6ea6",
   "metadata": {},
   "source": [
    "First, our population parameter of interest is the difference in population medians of tree diameters $d_{y}$ - $d_{n}$, where $d_{y}$ is the median of diameters of trees on the curb, and $d_{n}$ is of trees not on the curb. Then, we set the null hypothesis $H_{0}$ to be that there is no difference in medians of diameters of trees on and not on the curb. And the alternative hypothesis $H_{A}$ to be that there is a difference. "
   ]
  },
  {
   "cell_type": "markdown",
   "id": "4cc00d4c-c083-42ff-84cf-9fe7afe35d4e",
   "metadata": {},
   "source": [
    "$H_{0} : d_{y} - d_{n} = 0 $"
   ]
  },
  {
   "cell_type": "markdown",
   "id": "833457d8-6fc5-455d-a3ff-0c3129ba0d48",
   "metadata": {},
   "source": [
    "$H_{A} : d_{y} - d_{n} \\neq 0 $"
   ]
  },
  {
   "cell_type": "code",
   "execution_count": 7,
   "id": "7919420a-0f0c-4195-af4f-bd9c92985021",
   "metadata": {},
   "outputs": [
    {
     "data": {
      "text/html": [
       "<table class=\"dataframe\">\n",
       "<caption>A data.table: 2 × 2</caption>\n",
       "<thead>\n",
       "\t<tr><th scope=col>CURB</th><th scope=col>n</th></tr>\n",
       "\t<tr><th scope=col>&lt;chr&gt;</th><th scope=col>&lt;int&gt;</th></tr>\n",
       "</thead>\n",
       "<tbody>\n",
       "\t<tr><td>N</td><td> 16053</td></tr>\n",
       "\t<tr><td>Y</td><td>135143</td></tr>\n",
       "</tbody>\n",
       "</table>\n"
      ],
      "text/latex": [
       "A data.table: 2 × 2\n",
       "\\begin{tabular}{ll}\n",
       " CURB & n\\\\\n",
       " <chr> & <int>\\\\\n",
       "\\hline\n",
       "\t N &  16053\\\\\n",
       "\t Y & 135143\\\\\n",
       "\\end{tabular}\n"
      ],
      "text/markdown": [
       "\n",
       "A data.table: 2 × 2\n",
       "\n",
       "| CURB &lt;chr&gt; | n &lt;int&gt; |\n",
       "|---|---|\n",
       "| N |  16053 |\n",
       "| Y | 135143 |\n",
       "\n"
      ],
      "text/plain": [
       "  CURB n     \n",
       "1 N     16053\n",
       "2 Y    135143"
      ]
     },
     "metadata": {},
     "output_type": "display_data"
    }
   ],
   "source": [
    "set.seed(1234)\n",
    "\n",
    "tree_count <-\n",
    "    tidy_street_trees %>% \n",
    "    count(CURB)\n",
    "\n",
    "tree_count"
   ]
  },
  {
   "cell_type": "code",
   "execution_count": 8,
   "id": "7f18db77-ff1b-486b-ac1e-8529fcf3db94",
   "metadata": {},
   "outputs": [
    {
     "data": {
      "text/html": [
       "<table class=\"dataframe\">\n",
       "<caption>A infer: 1 × 1</caption>\n",
       "<thead>\n",
       "\t<tr><th scope=col>stat</th></tr>\n",
       "\t<tr><th scope=col>&lt;dbl&gt;</th></tr>\n",
       "</thead>\n",
       "<tbody>\n",
       "\t<tr><td>-1.75</td></tr>\n",
       "</tbody>\n",
       "</table>\n"
      ],
      "text/latex": [
       "A infer: 1 × 1\n",
       "\\begin{tabular}{l}\n",
       " stat\\\\\n",
       " <dbl>\\\\\n",
       "\\hline\n",
       "\t -1.75\\\\\n",
       "\\end{tabular}\n"
      ],
      "text/markdown": [
       "\n",
       "A infer: 1 × 1\n",
       "\n",
       "| stat &lt;dbl&gt; |\n",
       "|---|\n",
       "| -1.75 |\n",
       "\n"
      ],
      "text/plain": [
       "  stat \n",
       "1 -1.75"
      ]
     },
     "metadata": {},
     "output_type": "display_data"
    }
   ],
   "source": [
    "set.seed(1234)\n",
    "\n",
    "obs_diff_in_medians <- tidy_street_trees %>%\n",
    "    specify(formula = DIAMETER ~ CURB) %>%\n",
    "    calculate(stat = \"diff in medians\", order = c(\"Y\", \"N\"))\n",
    "\n",
    "obs_diff_in_medians"
   ]
  },
  {
   "cell_type": "code",
   "execution_count": 9,
   "id": "12bcd44a-bf49-49a0-aea7-a3a22fb18dc3",
   "metadata": {},
   "outputs": [
    {
     "data": {
      "text/html": [
       "<table class=\"dataframe\">\n",
       "<caption>A infer: 6 × 2</caption>\n",
       "<thead>\n",
       "\t<tr><th scope=col>replicate</th><th scope=col>stat</th></tr>\n",
       "\t<tr><th scope=col>&lt;int&gt;</th><th scope=col>&lt;dbl&gt;</th></tr>\n",
       "</thead>\n",
       "<tbody>\n",
       "\t<tr><td>1</td><td>0.0</td></tr>\n",
       "\t<tr><td>2</td><td>0.5</td></tr>\n",
       "\t<tr><td>3</td><td>0.0</td></tr>\n",
       "\t<tr><td>4</td><td>0.5</td></tr>\n",
       "\t<tr><td>5</td><td>0.0</td></tr>\n",
       "\t<tr><td>6</td><td>0.0</td></tr>\n",
       "</tbody>\n",
       "</table>\n"
      ],
      "text/latex": [
       "A infer: 6 × 2\n",
       "\\begin{tabular}{ll}\n",
       " replicate & stat\\\\\n",
       " <int> & <dbl>\\\\\n",
       "\\hline\n",
       "\t 1 & 0.0\\\\\n",
       "\t 2 & 0.5\\\\\n",
       "\t 3 & 0.0\\\\\n",
       "\t 4 & 0.5\\\\\n",
       "\t 5 & 0.0\\\\\n",
       "\t 6 & 0.0\\\\\n",
       "\\end{tabular}\n"
      ],
      "text/markdown": [
       "\n",
       "A infer: 6 × 2\n",
       "\n",
       "| replicate &lt;int&gt; | stat &lt;dbl&gt; |\n",
       "|---|---|\n",
       "| 1 | 0.0 |\n",
       "| 2 | 0.5 |\n",
       "| 3 | 0.0 |\n",
       "| 4 | 0.5 |\n",
       "| 5 | 0.0 |\n",
       "| 6 | 0.0 |\n",
       "\n"
      ],
      "text/plain": [
       "  replicate stat\n",
       "1 1         0.0 \n",
       "2 2         0.5 \n",
       "3 3         0.0 \n",
       "4 4         0.5 \n",
       "5 5         0.0 \n",
       "6 6         0.0 "
      ]
     },
     "metadata": {},
     "output_type": "display_data"
    }
   ],
   "source": [
    "set.seed(1234)\n",
    "\n",
    "null_diff_in_medians <- \n",
    "    tidy_street_trees %>%\n",
    "    specify(formula = DIAMETER ~ CURB) %>%\n",
    "    hypothesize(null = \"independence\") %>%\n",
    "    generate(reps = 100, type = \"permute\") %>%\n",
    "    calculate(stat = \"diff in medians\", order = c(\"Y\", \"N\"))\n",
    "\n",
    "head(null_diff_in_medians)"
   ]
  },
  {
   "cell_type": "code",
   "execution_count": 10,
   "id": "1e61791c-5c7b-4bf8-aa0f-b00397e18721",
   "metadata": {},
   "outputs": [
    {
     "data": {
      "image/png": "[encoded data removed]",
      "text/plain": [
       "plot without title"
      ]
     },
     "metadata": {
      "image/png": {
       "height": 300,
       "width": 900
      }
     },
     "output_type": "display_data"
    }
   ],
   "source": [
    "diff_in_medians_plot <-\n",
    "        visualize(null_diff_in_medians, bins = 30) +\n",
    "        shade_p_value(obs_stat = obs_diff_in_medians, direction = \"both\") +\n",
    "        xlab(\"Difference in Medians\")\n",
    "\n",
    "diff_in_medians_plot"
   ]
  },
  {
   "cell_type": "code",
   "execution_count": 11,
   "id": "d452605f-b655-4a68-92e2-cda13fcf8353",
   "metadata": {},
   "outputs": [
    {
     "name": "stderr",
     "output_type": "stream",
     "text": [
      "Warning message:\n",
      "“Please be cautious in reporting a p-value of 0. This result is an approximation based on the number of `reps` chosen in the `generate()` step. See `?get_p_value()` for more information.”\n"
     ]
    },
    {
     "data": {
      "text/html": [
       "<table class=\"dataframe\">\n",
       "<caption>A tibble: 1 × 1</caption>\n",
       "<thead>\n",
       "\t<tr><th scope=col>p_value</th></tr>\n",
       "\t<tr><th scope=col>&lt;dbl&gt;</th></tr>\n",
       "</thead>\n",
       "<tbody>\n",
       "\t<tr><td>0</td></tr>\n",
       "</tbody>\n",
       "</table>\n"
      ],
      "text/latex": [
       "A tibble: 1 × 1\n",
       "\\begin{tabular}{l}\n",
       " p\\_value\\\\\n",
       " <dbl>\\\\\n",
       "\\hline\n",
       "\t 0\\\\\n",
       "\\end{tabular}\n"
      ],
      "text/markdown": [
       "\n",
       "A tibble: 1 × 1\n",
       "\n",
       "| p_value &lt;dbl&gt; |\n",
       "|---|\n",
       "| 0 |\n",
       "\n"
      ],
      "text/plain": [
       "  p_value\n",
       "1 0      "
      ]
     },
     "metadata": {},
     "output_type": "display_data"
    }
   ],
   "source": [
    "p_val_diff_medians <- \n",
    "    null_diff_in_medians %>% \n",
    "    get_p_value(obs_stat = obs_diff_in_medians, direction = \"both\")\n",
    "\n",
    "p_val_diff_medians"
   ]
  },
  {
   "cell_type": "markdown",
   "id": "a91c9ae5-52c3-4aa3-a6bb-4c3e08686717",
   "metadata": {},
   "source": []
  },
  {
   "cell_type": "code",
   "execution_count": 12,
   "id": "1036a373-3822-4bde-9a07-1698a2bc45cb",
   "metadata": {},
   "outputs": [
    {
     "data": {
      "text/html": [
       "<table class=\"dataframe\">\n",
       "<caption>A infer: 6 × 2</caption>\n",
       "<thead>\n",
       "\t<tr><th scope=col>replicate</th><th scope=col>stat</th></tr>\n",
       "\t<tr><th scope=col>&lt;int&gt;</th><th scope=col>&lt;dbl&gt;</th></tr>\n",
       "</thead>\n",
       "<tbody>\n",
       "\t<tr><td>1</td><td>-1.50</td></tr>\n",
       "\t<tr><td>2</td><td>-1.75</td></tr>\n",
       "\t<tr><td>3</td><td>-1.25</td></tr>\n",
       "\t<tr><td>4</td><td>-1.50</td></tr>\n",
       "\t<tr><td>5</td><td>-1.25</td></tr>\n",
       "\t<tr><td>6</td><td>-1.75</td></tr>\n",
       "</tbody>\n",
       "</table>\n"
      ],
      "text/latex": [
       "A infer: 6 × 2\n",
       "\\begin{tabular}{ll}\n",
       " replicate & stat\\\\\n",
       " <int> & <dbl>\\\\\n",
       "\\hline\n",
       "\t 1 & -1.50\\\\\n",
       "\t 2 & -1.75\\\\\n",
       "\t 3 & -1.25\\\\\n",
       "\t 4 & -1.50\\\\\n",
       "\t 5 & -1.25\\\\\n",
       "\t 6 & -1.75\\\\\n",
       "\\end{tabular}\n"
      ],
      "text/markdown": [
       "\n",
       "A infer: 6 × 2\n",
       "\n",
       "| replicate &lt;int&gt; | stat &lt;dbl&gt; |\n",
       "|---|---|\n",
       "| 1 | -1.50 |\n",
       "| 2 | -1.75 |\n",
       "| 3 | -1.25 |\n",
       "| 4 | -1.50 |\n",
       "| 5 | -1.25 |\n",
       "| 6 | -1.75 |\n",
       "\n"
      ],
      "text/plain": [
       "  replicate stat \n",
       "1 1         -1.50\n",
       "2 2         -1.75\n",
       "3 3         -1.25\n",
       "4 4         -1.50\n",
       "5 5         -1.25\n",
       "6 6         -1.75"
      ]
     },
     "metadata": {},
     "output_type": "display_data"
    }
   ],
   "source": [
    "set.seed(1234)\n",
    "\n",
    "diff_in_medians_bootstrap_dist <-\n",
    "    tidy_street_trees %>% \n",
    "    specify(formula = DIAMETER ~ CURB) %>%\n",
    "    generate(reps = 200, type = \"bootstrap\") %>%\n",
    "    calculate(stat = \"diff in medians\", order = c(\"Y\", \"N\"))\n",
    "\n",
    "head(diff_in_medians_bootstrap_dist)"
   ]
  },
  {
   "cell_type": "code",
   "execution_count": 13,
   "id": "7b2ee0a9-7be1-4cc4-9d71-d463fadad803",
   "metadata": {},
   "outputs": [
    {
     "data": {
      "text/html": [
       "<table class=\"dataframe\">\n",
       "<caption>A tibble: 1 × 2</caption>\n",
       "<thead>\n",
       "\t<tr><th scope=col>lower_ci</th><th scope=col>upper_ci</th></tr>\n",
       "\t<tr><th scope=col>&lt;dbl&gt;</th><th scope=col>&lt;dbl&gt;</th></tr>\n",
       "</thead>\n",
       "<tbody>\n",
       "\t<tr><td>-2</td><td>-1</td></tr>\n",
       "</tbody>\n",
       "</table>\n"
      ],
      "text/latex": [
       "A tibble: 1 × 2\n",
       "\\begin{tabular}{ll}\n",
       " lower\\_ci & upper\\_ci\\\\\n",
       " <dbl> & <dbl>\\\\\n",
       "\\hline\n",
       "\t -2 & -1\\\\\n",
       "\\end{tabular}\n"
      ],
      "text/markdown": [
       "\n",
       "A tibble: 1 × 2\n",
       "\n",
       "| lower_ci &lt;dbl&gt; | upper_ci &lt;dbl&gt; |\n",
       "|---|---|\n",
       "| -2 | -1 |\n",
       "\n"
      ],
      "text/plain": [
       "  lower_ci upper_ci\n",
       "1 -2       -1      "
      ]
     },
     "metadata": {},
     "output_type": "display_data"
    }
   ],
   "source": [
    "diff_in_medians_ci <-\n",
    "    diff_in_medians_bootstrap_dist %>%\n",
    "    summarise(lower_ci = quantile(stat, 0.025), upper_ci = quantile(stat, 0.975))\n",
    "\n",
    "diff_in_medians_ci"
   ]
  },
  {
   "cell_type": "code",
   "execution_count": null,
   "id": "531e1ba1-5880-4afe-b7b1-9a269e530e16",
   "metadata": {},
   "outputs": [],
   "source": []
  },
  {
   "cell_type": "markdown",
   "id": "ccda502d-a57e-42d6-bd9f-5c5c5733f390",
   "metadata": {},
   "source": [
    "## Methods"
   ]
  },
  {
   "cell_type": "code",
   "execution_count": null,
   "id": "bd815950-78ec-49b7-8a8c-bd2333353fd2",
   "metadata": {},
   "outputs": [],
   "source": []
  },
  {
   "cell_type": "code",
   "execution_count": null,
   "id": "aa7d1e9c-d7e7-4d30-8ec7-5b07b6b05eb7",
   "metadata": {},
   "outputs": [],
   "source": []
  },
  {
   "cell_type": "markdown",
   "id": "51884478-0276-4581-9381-812ffe847e1e",
   "metadata": {
    "tags": []
   },
   "source": [
    "## References and Appendix"
   ]
  },
  {
   "cell_type": "markdown",
   "id": "1a7dfc97-a1c0-4273-82fe-809ad022a1d8",
   "metadata": {},
   "source": [
    "### References"
   ]
  },
  {
   "cell_type": "markdown",
   "id": "7f0987af-2a26-40f7-a769-608d27e49fe2",
   "metadata": {},
   "source": [
    "_All in-text citation and references are written in  APA 7 (American Psychological Association 7th edition) style_"
   ]
  },
  {
   "cell_type": "markdown",
   "id": "2f6f054a-2491-443f-9ae9-9d8d88763442",
   "metadata": {},
   "source": [
    "Illowsky, B., & Dean, S. (n.d.). 2.6: Measures of the Center of the Data. In _Introductory Statistics_. De Anza College: LibreTexts. Retrieved July 22, 2022, from https://stats.libretexts.org/Bookshelves/Introductory_Statistics/Book%3A_Introductory_Statistics_(OpenStax)/02%3A_Descriptive_Statistics/2.06%3A_Measures_of_the_Center_of_the_Data"
   ]
  },
  {
   "cell_type": "markdown",
   "id": "375bcfb3-5f0d-40fc-9fb2-ee34dce616c5",
   "metadata": {},
   "source": [
    "### Appendix A: Data set for street trees in Vancouver (BC, Canada) recorded by City of Vancouver"
   ]
  },
  {
   "cell_type": "code",
   "execution_count": 14,
   "id": "06958b16-f921-4b77-bacb-c76185b8ed9d",
   "metadata": {},
   "outputs": [
    {
     "name": "stderr",
     "output_type": "stream",
     "text": [
      "Updating HTML index of packages in '.Library'\n",
      "\n",
      "Making 'packages.html' ...\n",
      " done\n",
      "\n"
     ]
    }
   ],
   "source": [
    "install.packages(\"data.table\")"
   ]
  },
  {
   "cell_type": "code",
   "execution_count": 15,
   "id": "c1207a42-8d16-4af1-a6a0-ba0efef41c1b",
   "metadata": {},
   "outputs": [],
   "source": [
    "library(data.table)"
   ]
  },
  {
   "cell_type": "code",
   "execution_count": 16,
   "id": "b205b954-ee40-495b-933b-f4f850f8b2e9",
   "metadata": {},
   "outputs": [
    {
     "data": {
      "text/html": [
       "<table class=\"dataframe\">\n",
       "<caption>A data.table: 6 × 19</caption>\n",
       "<thead>\n",
       "\t<tr><th scope=col>TREE_ID</th><th scope=col>CIVIC_NUMBER</th><th scope=col>STD_STREET</th><th scope=col>GENUS_NAME</th><th scope=col>SPECIES_NAME</th><th scope=col>CULTIVAR_NAME</th><th scope=col>COMMON_NAME</th><th scope=col>ASSIGNED</th><th scope=col>ROOT_BARRIER</th><th scope=col>PLANT_AREA</th><th scope=col>ON_STREET_BLOCK</th><th scope=col>ON_STREET</th><th scope=col>NEIGHBOURHOOD_NAME</th><th scope=col>STREET_SIDE_NAME</th><th scope=col>HEIGHT_RANGE_ID</th><th scope=col>DIAMETER</th><th scope=col>CURB</th><th scope=col>DATE_PLANTED</th><th scope=col>Geom</th></tr>\n",
       "\t<tr><th scope=col>&lt;int&gt;</th><th scope=col>&lt;int&gt;</th><th scope=col>&lt;chr&gt;</th><th scope=col>&lt;chr&gt;</th><th scope=col>&lt;chr&gt;</th><th scope=col>&lt;chr&gt;</th><th scope=col>&lt;chr&gt;</th><th scope=col>&lt;chr&gt;</th><th scope=col>&lt;chr&gt;</th><th scope=col>&lt;chr&gt;</th><th scope=col>&lt;int&gt;</th><th scope=col>&lt;chr&gt;</th><th scope=col>&lt;chr&gt;</th><th scope=col>&lt;chr&gt;</th><th scope=col>&lt;int&gt;</th><th scope=col>&lt;dbl&gt;</th><th scope=col>&lt;chr&gt;</th><th scope=col>&lt;date&gt;</th><th scope=col>&lt;chr&gt;</th></tr>\n",
       "</thead>\n",
       "<tbody>\n",
       "\t<tr><td>8033</td><td>1587</td><td>W 8TH AV</td><td>CARPINUS</td><td>BETULUS  </td><td>       </td><td>EUROPEAN HORNBEAM       </td><td>N</td><td>N</td><td>B</td><td>1500</td><td>W 8TH AV</td><td>FAIRVIEW </td><td>ODD </td><td>5</td><td>18</td><td>Y</td><td>NA</td><td>{\"\"coordinates\"\": [-123.140781, 49.264628], \"\"type\"\": \"\"Point\"\"}</td></tr>\n",
       "\t<tr><td>8034</td><td>1587</td><td>W 8TH AV</td><td>CARPINUS</td><td>BETULUS  </td><td>       </td><td>EUROPEAN HORNBEAM       </td><td>N</td><td>N</td><td>B</td><td>1500</td><td>W 8TH AV</td><td>FAIRVIEW </td><td>ODD </td><td>5</td><td>18</td><td>Y</td><td>NA</td><td>{\"\"coordinates\"\": [-123.140745, 49.264628], \"\"type\"\": \"\"Point\"\"}</td></tr>\n",
       "\t<tr><td>8041</td><td>1587</td><td>W 8TH AV</td><td>CARPINUS</td><td>BETULUS  </td><td>       </td><td>EUROPEAN HORNBEAM       </td><td>N</td><td>N</td><td>B</td><td>2300</td><td>FIR ST  </td><td>FAIRVIEW </td><td>EVEN</td><td>4</td><td> 9</td><td>Y</td><td>NA</td><td>{\"\"coordinates\"\": [-123.140783, 49.264647], \"\"type\"\": \"\"Point\"\"}</td></tr>\n",
       "\t<tr><td>8065</td><td>1850</td><td>W 8TH AV</td><td>PRUNUS  </td><td>SERRULATA</td><td>KWANZAN</td><td>KWANZAN FLOWERING CHERRY</td><td>N</td><td>N</td><td>3</td><td>1800</td><td>W 8TH AV</td><td>KITSILANO</td><td>EVEN</td><td>2</td><td>13</td><td>Y</td><td>NA</td><td>{\"\"coordinates\"\": [-123.146472, 49.264583], \"\"type\"\": \"\"Point\"\"}</td></tr>\n",
       "\t<tr><td>8070</td><td>1850</td><td>W 8TH AV</td><td>PRUNUS  </td><td>SERRULATA</td><td>KWANZAN</td><td>KWANZAN FLOWERING CHERRY</td><td>N</td><td>N</td><td>6</td><td>1800</td><td>W 8TH AV</td><td>KITSILANO</td><td>EVEN</td><td>2</td><td>11</td><td>Y</td><td>NA</td><td>{\"\"coordinates\"\": [-123.146934, 49.264592], \"\"type\"\": \"\"Point\"\"}</td></tr>\n",
       "\t<tr><td>8071</td><td>1825</td><td>W 8TH AV</td><td>PRUNUS  </td><td>SERRULATA</td><td>KWANZAN</td><td>KWANZAN FLOWERING CHERRY</td><td>N</td><td>N</td><td>6</td><td>1800</td><td>W 8TH AV</td><td>KITSILANO</td><td>ODD </td><td>2</td><td>15</td><td>Y</td><td>NA</td><td>{\"\"coordinates\"\": [-123.146583, 49.264689], \"\"type\"\": \"\"Point\"\"}</td></tr>\n",
       "</tbody>\n",
       "</table>\n"
      ],
      "text/latex": [
       "A data.table: 6 × 19\n",
       "\\begin{tabular}{lllllllllllllllllll}\n",
       " TREE\\_ID & CIVIC\\_NUMBER & STD\\_STREET & GENUS\\_NAME & SPECIES\\_NAME & CULTIVAR\\_NAME & COMMON\\_NAME & ASSIGNED & ROOT\\_BARRIER & PLANT\\_AREA & ON\\_STREET\\_BLOCK & ON\\_STREET & NEIGHBOURHOOD\\_NAME & STREET\\_SIDE\\_NAME & HEIGHT\\_RANGE\\_ID & DIAMETER & CURB & DATE\\_PLANTED & Geom\\\\\n",
       " <int> & <int> & <chr> & <chr> & <chr> & <chr> & <chr> & <chr> & <chr> & <chr> & <int> & <chr> & <chr> & <chr> & <int> & <dbl> & <chr> & <date> & <chr>\\\\\n",
       "\\hline\n",
       "\t 8033 & 1587 & W 8TH AV & CARPINUS & BETULUS   &         & EUROPEAN HORNBEAM        & N & N & B & 1500 & W 8TH AV & FAIRVIEW  & ODD  & 5 & 18 & Y & NA & \\{\"\"coordinates\"\": {[}-123.140781, 49.264628{]}, \"\"type\"\": \"\"Point\"\"\\}\\\\\n",
       "\t 8034 & 1587 & W 8TH AV & CARPINUS & BETULUS   &         & EUROPEAN HORNBEAM        & N & N & B & 1500 & W 8TH AV & FAIRVIEW  & ODD  & 5 & 18 & Y & NA & \\{\"\"coordinates\"\": {[}-123.140745, 49.264628{]}, \"\"type\"\": \"\"Point\"\"\\}\\\\\n",
       "\t 8041 & 1587 & W 8TH AV & CARPINUS & BETULUS   &         & EUROPEAN HORNBEAM        & N & N & B & 2300 & FIR ST   & FAIRVIEW  & EVEN & 4 &  9 & Y & NA & \\{\"\"coordinates\"\": {[}-123.140783, 49.264647{]}, \"\"type\"\": \"\"Point\"\"\\}\\\\\n",
       "\t 8065 & 1850 & W 8TH AV & PRUNUS   & SERRULATA & KWANZAN & KWANZAN FLOWERING CHERRY & N & N & 3 & 1800 & W 8TH AV & KITSILANO & EVEN & 2 & 13 & Y & NA & \\{\"\"coordinates\"\": {[}-123.146472, 49.264583{]}, \"\"type\"\": \"\"Point\"\"\\}\\\\\n",
       "\t 8070 & 1850 & W 8TH AV & PRUNUS   & SERRULATA & KWANZAN & KWANZAN FLOWERING CHERRY & N & N & 6 & 1800 & W 8TH AV & KITSILANO & EVEN & 2 & 11 & Y & NA & \\{\"\"coordinates\"\": {[}-123.146934, 49.264592{]}, \"\"type\"\": \"\"Point\"\"\\}\\\\\n",
       "\t 8071 & 1825 & W 8TH AV & PRUNUS   & SERRULATA & KWANZAN & KWANZAN FLOWERING CHERRY & N & N & 6 & 1800 & W 8TH AV & KITSILANO & ODD  & 2 & 15 & Y & NA & \\{\"\"coordinates\"\": {[}-123.146583, 49.264689{]}, \"\"type\"\": \"\"Point\"\"\\}\\\\\n",
       "\\end{tabular}\n"
      ],
      "text/markdown": [
       "\n",
       "A data.table: 6 × 19\n",
       "\n",
       "| TREE_ID &lt;int&gt; | CIVIC_NUMBER &lt;int&gt; | STD_STREET &lt;chr&gt; | GENUS_NAME &lt;chr&gt; | SPECIES_NAME &lt;chr&gt; | CULTIVAR_NAME &lt;chr&gt; | COMMON_NAME &lt;chr&gt; | ASSIGNED &lt;chr&gt; | ROOT_BARRIER &lt;chr&gt; | PLANT_AREA &lt;chr&gt; | ON_STREET_BLOCK &lt;int&gt; | ON_STREET &lt;chr&gt; | NEIGHBOURHOOD_NAME &lt;chr&gt; | STREET_SIDE_NAME &lt;chr&gt; | HEIGHT_RANGE_ID &lt;int&gt; | DIAMETER &lt;dbl&gt; | CURB &lt;chr&gt; | DATE_PLANTED &lt;date&gt; | Geom &lt;chr&gt; |\n",
       "|---|---|---|---|---|---|---|---|---|---|---|---|---|---|---|---|---|---|---|\n",
       "| 8033 | 1587 | W 8TH AV | CARPINUS | BETULUS   | <!----> | EUROPEAN HORNBEAM        | N | N | B | 1500 | W 8TH AV | FAIRVIEW  | ODD  | 5 | 18 | Y | NA | {\"\"coordinates\"\": [-123.140781, 49.264628], \"\"type\"\": \"\"Point\"\"} |\n",
       "| 8034 | 1587 | W 8TH AV | CARPINUS | BETULUS   | <!----> | EUROPEAN HORNBEAM        | N | N | B | 1500 | W 8TH AV | FAIRVIEW  | ODD  | 5 | 18 | Y | NA | {\"\"coordinates\"\": [-123.140745, 49.264628], \"\"type\"\": \"\"Point\"\"} |\n",
       "| 8041 | 1587 | W 8TH AV | CARPINUS | BETULUS   | <!----> | EUROPEAN HORNBEAM        | N | N | B | 2300 | FIR ST   | FAIRVIEW  | EVEN | 4 |  9 | Y | NA | {\"\"coordinates\"\": [-123.140783, 49.264647], \"\"type\"\": \"\"Point\"\"} |\n",
       "| 8065 | 1850 | W 8TH AV | PRUNUS   | SERRULATA | KWANZAN | KWANZAN FLOWERING CHERRY | N | N | 3 | 1800 | W 8TH AV | KITSILANO | EVEN | 2 | 13 | Y | NA | {\"\"coordinates\"\": [-123.146472, 49.264583], \"\"type\"\": \"\"Point\"\"} |\n",
       "| 8070 | 1850 | W 8TH AV | PRUNUS   | SERRULATA | KWANZAN | KWANZAN FLOWERING CHERRY | N | N | 6 | 1800 | W 8TH AV | KITSILANO | EVEN | 2 | 11 | Y | NA | {\"\"coordinates\"\": [-123.146934, 49.264592], \"\"type\"\": \"\"Point\"\"} |\n",
       "| 8071 | 1825 | W 8TH AV | PRUNUS   | SERRULATA | KWANZAN | KWANZAN FLOWERING CHERRY | N | N | 6 | 1800 | W 8TH AV | KITSILANO | ODD  | 2 | 15 | Y | NA | {\"\"coordinates\"\": [-123.146583, 49.264689], \"\"type\"\": \"\"Point\"\"} |\n",
       "\n"
      ],
      "text/plain": [
       "  TREE_ID CIVIC_NUMBER STD_STREET GENUS_NAME SPECIES_NAME CULTIVAR_NAME\n",
       "1 8033    1587         W 8TH AV   CARPINUS   BETULUS                   \n",
       "2 8034    1587         W 8TH AV   CARPINUS   BETULUS                   \n",
       "3 8041    1587         W 8TH AV   CARPINUS   BETULUS                   \n",
       "4 8065    1850         W 8TH AV   PRUNUS     SERRULATA    KWANZAN      \n",
       "5 8070    1850         W 8TH AV   PRUNUS     SERRULATA    KWANZAN      \n",
       "6 8071    1825         W 8TH AV   PRUNUS     SERRULATA    KWANZAN      \n",
       "  COMMON_NAME              ASSIGNED ROOT_BARRIER PLANT_AREA ON_STREET_BLOCK\n",
       "1 EUROPEAN HORNBEAM        N        N            B          1500           \n",
       "2 EUROPEAN HORNBEAM        N        N            B          1500           \n",
       "3 EUROPEAN HORNBEAM        N        N            B          2300           \n",
       "4 KWANZAN FLOWERING CHERRY N        N            3          1800           \n",
       "5 KWANZAN FLOWERING CHERRY N        N            6          1800           \n",
       "6 KWANZAN FLOWERING CHERRY N        N            6          1800           \n",
       "  ON_STREET NEIGHBOURHOOD_NAME STREET_SIDE_NAME HEIGHT_RANGE_ID DIAMETER CURB\n",
       "1 W 8TH AV  FAIRVIEW           ODD              5               18       Y   \n",
       "2 W 8TH AV  FAIRVIEW           ODD              5               18       Y   \n",
       "3 FIR ST    FAIRVIEW           EVEN             4                9       Y   \n",
       "4 W 8TH AV  KITSILANO          EVEN             2               13       Y   \n",
       "5 W 8TH AV  KITSILANO          EVEN             2               11       Y   \n",
       "6 W 8TH AV  KITSILANO          ODD              2               15       Y   \n",
       "  DATE_PLANTED Geom                                                            \n",
       "1 <NA>         {\"\"coordinates\"\": [-123.140781, 49.264628], \"\"type\"\": \"\"Point\"\"}\n",
       "2 <NA>         {\"\"coordinates\"\": [-123.140745, 49.264628], \"\"type\"\": \"\"Point\"\"}\n",
       "3 <NA>         {\"\"coordinates\"\": [-123.140783, 49.264647], \"\"type\"\": \"\"Point\"\"}\n",
       "4 <NA>         {\"\"coordinates\"\": [-123.146472, 49.264583], \"\"type\"\": \"\"Point\"\"}\n",
       "5 <NA>         {\"\"coordinates\"\": [-123.146934, 49.264592], \"\"type\"\": \"\"Point\"\"}\n",
       "6 <NA>         {\"\"coordinates\"\": [-123.146583, 49.264689], \"\"type\"\": \"\"Point\"\"}"
      ]
     },
     "metadata": {},
     "output_type": "display_data"
    }
   ],
   "source": [
    "street_trees_data <- fread(\"https://opendata.vancouver.ca/explore/dataset/street-trees/download/?format=csv&timezone=America/Los_Angeles&lang=en&use_labels_for_header=true&csv_separator=%3B\")\n",
    "\n",
    "head(street_trees_data)"
   ]
  },
  {
   "cell_type": "markdown",
   "id": "f12a017b-64e2-4709-b66b-90e8bc9216e7",
   "metadata": {
    "tags": []
   },
   "source": [
    "### Appendix B: Adding Necessary Packages"
   ]
  },
  {
   "cell_type": "markdown",
   "id": "2f9a97fe-2bfd-4e12-a669-5c541b53b29f",
   "metadata": {},
   "source": [
    "In order to load the packages, we have to use the code `install.packages()`. Before running the code cell below, check whether the packages are already installed in R as it takes a while to run this cell."
   ]
  },
  {
   "cell_type": "code",
   "execution_count": 17,
   "id": "13e9072f-6ee8-4992-b263-d974e215a59e",
   "metadata": {},
   "outputs": [
    {
     "name": "stderr",
     "output_type": "stream",
     "text": [
      "Updating HTML index of packages in '.Library'\n",
      "\n",
      "Making 'packages.html' ...\n",
      " done\n",
      "\n",
      "Updating HTML index of packages in '.Library'\n",
      "\n",
      "Making 'packages.html' ...\n",
      " done\n",
      "\n",
      "Updating HTML index of packages in '.Library'\n",
      "\n",
      "Making 'packages.html' ...\n",
      " done\n",
      "\n",
      "Warning message in install.packages(\"cowplot\"):\n",
      "“installation of package ‘cowplot’ had non-zero exit status”\n",
      "Updating HTML index of packages in '.Library'\n",
      "\n",
      "Making 'packages.html' ...\n",
      " done\n",
      "\n",
      "Updating HTML index of packages in '.Library'\n",
      "\n",
      "Making 'packages.html' ...\n",
      " done\n",
      "\n",
      "Warning message in install.packages(\"GGally\"):\n",
      "“installation of package ‘GGally’ had non-zero exit status”\n",
      "Updating HTML index of packages in '.Library'\n",
      "\n",
      "Making 'packages.html' ...\n",
      " done\n",
      "\n",
      "Updating HTML index of packages in '.Library'\n",
      "\n",
      "Making 'packages.html' ...\n",
      " done\n",
      "\n",
      "Updating HTML index of packages in '.Library'\n",
      "\n",
      "Making 'packages.html' ...\n",
      " done\n",
      "\n",
      "Updating HTML index of packages in '.Library'\n",
      "\n",
      "Making 'packages.html' ...\n",
      " done\n",
      "\n",
      "Updating HTML index of packages in '.Library'\n",
      "\n",
      "Making 'packages.html' ...\n",
      " done\n",
      "\n"
     ]
    }
   ],
   "source": [
    "install.packages(\"tidyverse\")\n",
    "install.packages(\"tidymodels\")\n",
    "install.packages(\"repr\")\n",
    "install.packages(\"cowplot\")\n",
    "install.packages(\"ggplot2\")\n",
    "install.packages(\"GGally\")\n",
    "install.packages(\"digest\")\n",
    "install.packages(\"infer\")\n",
    "install.packages(\"RCurl\")\n",
    "install.packages(\"data.table\")"
   ]
  },
  {
   "cell_type": "markdown",
   "id": "29802987-50ed-4861-ab78-aafc6700b4c0",
   "metadata": {},
   "source": [
    "After installing relevant packages, we need to load it into workflow using `library()`"
   ]
  }
 ],
 "metadata": {
  "kernelspec": {
   "display_name": "R",
   "language": "R",
   "name": "ir"
  },
  "language_info": {
   "codemirror_mode": "r",
   "file_extension": ".r",
   "mimetype": "text/x-r-source",
   "name": "R",
   "pygments_lexer": "r",
   "version": "4.0.5"
  }
 },
 "nbformat": 4,
 "nbformat_minor": 5
}
