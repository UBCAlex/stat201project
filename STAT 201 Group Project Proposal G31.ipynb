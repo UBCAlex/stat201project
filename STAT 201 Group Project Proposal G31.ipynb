{
 "cells": [
  {
   "cell_type": "markdown",
   "id": "c9f52ebe-3078-4406-8698-08fd9f84267d",
   "metadata": {},
   "source": [
    "# _STAT 201 Group Project Proposal_"
   ]
  },
  {
   "cell_type": "markdown",
   "id": "59e74fbd-30ac-4da6-abb0-907af941d89f",
   "metadata": {},
   "source": [
    "##### _Group 31: Alexandr Kim, Yingshan Wu, Yang Lei, Harbor Zhang_"
   ]
  },
  {
   "cell_type": "markdown",
   "id": "00c074da-1ad6-4a08-a9e3-74dcadc7e1c4",
   "metadata": {},
   "source": [
    "## Introduction"
   ]
  },
  {
   "cell_type": "code",
   "execution_count": null,
   "id": "4677d811-c38d-4c70-9f8d-c428dbe5b764",
   "metadata": {},
   "outputs": [],
   "source": []
  },
  {
   "cell_type": "markdown",
   "id": "22e1e941-fdb9-4f83-9815-01fb0a8211cc",
   "metadata": {},
   "source": [
    "## Preliminary Results"
   ]
  },
  {
   "cell_type": "code",
   "execution_count": 8,
   "id": "bc559b54-5eff-4c41-a890-b59e015694b6",
   "metadata": {},
   "outputs": [
    {
     "ename": "ERROR",
     "evalue": "Error in library(XML): there is no package called ‘XML’\n",
     "output_type": "error",
     "traceback": [
      "Error in library(XML): there is no package called ‘XML’\nTraceback:\n",
      "1. library(XML)"
     ]
    }
   ],
   "source": [
    "library(tidyverse)\n",
    "library(cowplot)\n",
    "library(infer)\n",
    "library(repr)\n",
    "library(ggplot2)\n",
    "library(XML)\n",
    "library(RCurl)\n",
    "library(data.table)"
   ]
  },
  {
   "cell_type": "code",
   "execution_count": null,
   "id": "c639af00-87a1-4cfa-ae37-b0da202e2b13",
   "metadata": {},
   "outputs": [],
   "source": []
  },
  {
   "cell_type": "markdown",
   "id": "ccda502d-a57e-42d6-bd9f-5c5c5733f390",
   "metadata": {},
   "source": [
    "## Methods: Plan"
   ]
  },
  {
   "cell_type": "code",
   "execution_count": null,
   "id": "bd815950-78ec-49b7-8a8c-bd2333353fd2",
   "metadata": {},
   "outputs": [],
   "source": []
  },
  {
   "cell_type": "code",
   "execution_count": null,
   "id": "aa7d1e9c-d7e7-4d30-8ec7-5b07b6b05eb7",
   "metadata": {},
   "outputs": [],
   "source": []
  },
  {
   "cell_type": "markdown",
   "id": "375bcfb3-5f0d-40fc-9fb2-ee34dce616c5",
   "metadata": {},
   "source": [
    "### Appendix A: Data set for street trees in Vancouver (BC, Canada) recorded by City of Vancouver"
   ]
  },
  {
   "cell_type": "code",
   "execution_count": 4,
   "id": "06958b16-f921-4b77-bacb-c76185b8ed9d",
   "metadata": {},
   "outputs": [
    {
     "name": "stderr",
     "output_type": "stream",
     "text": [
      "Updating HTML index of packages in '.Library'\n",
      "\n",
      "Making 'packages.html' ...\n",
      " done\n",
      "\n"
     ]
    }
   ],
   "source": [
    "install.packages(\"data.table\")"
   ]
  },
  {
   "cell_type": "code",
   "execution_count": 5,
   "id": "c1207a42-8d16-4af1-a6a0-ba0efef41c1b",
   "metadata": {},
   "outputs": [
    {
     "name": "stderr",
     "output_type": "stream",
     "text": [
      "\n",
      "Attaching package: ‘data.table’\n",
      "\n",
      "\n",
      "The following objects are masked from ‘package:dplyr’:\n",
      "\n",
      "    between, first, last\n",
      "\n",
      "\n",
      "The following object is masked from ‘package:purrr’:\n",
      "\n",
      "    transpose\n",
      "\n",
      "\n"
     ]
    }
   ],
   "source": [
    "library(data.table)"
   ]
  },
  {
   "cell_type": "code",
   "execution_count": 6,
   "id": "b205b954-ee40-495b-933b-f4f850f8b2e9",
   "metadata": {},
   "outputs": [
    {
     "data": {
      "text/html": [
       "<table class=\"dataframe\">\n",
       "<caption>A data.table: 6 × 19</caption>\n",
       "<thead>\n",
       "\t<tr><th scope=col>TREE_ID</th><th scope=col>CIVIC_NUMBER</th><th scope=col>STD_STREET</th><th scope=col>GENUS_NAME</th><th scope=col>SPECIES_NAME</th><th scope=col>CULTIVAR_NAME</th><th scope=col>COMMON_NAME</th><th scope=col>ASSIGNED</th><th scope=col>ROOT_BARRIER</th><th scope=col>PLANT_AREA</th><th scope=col>ON_STREET_BLOCK</th><th scope=col>ON_STREET</th><th scope=col>NEIGHBOURHOOD_NAME</th><th scope=col>STREET_SIDE_NAME</th><th scope=col>HEIGHT_RANGE_ID</th><th scope=col>DIAMETER</th><th scope=col>CURB</th><th scope=col>DATE_PLANTED</th><th scope=col>Geom</th></tr>\n",
       "\t<tr><th scope=col>&lt;int&gt;</th><th scope=col>&lt;int&gt;</th><th scope=col>&lt;chr&gt;</th><th scope=col>&lt;chr&gt;</th><th scope=col>&lt;chr&gt;</th><th scope=col>&lt;chr&gt;</th><th scope=col>&lt;chr&gt;</th><th scope=col>&lt;chr&gt;</th><th scope=col>&lt;chr&gt;</th><th scope=col>&lt;chr&gt;</th><th scope=col>&lt;int&gt;</th><th scope=col>&lt;chr&gt;</th><th scope=col>&lt;chr&gt;</th><th scope=col>&lt;chr&gt;</th><th scope=col>&lt;int&gt;</th><th scope=col>&lt;dbl&gt;</th><th scope=col>&lt;chr&gt;</th><th scope=col>&lt;date&gt;</th><th scope=col>&lt;chr&gt;</th></tr>\n",
       "</thead>\n",
       "<tbody>\n",
       "\t<tr><td>3469</td><td>3348</td><td>W 4TH AV</td><td>CARPINUS    </td><td>BETULUS     </td><td>FASTIGIATA</td><td>PYRAMIDAL EUROPEAN HORNBEAM</td><td>Y</td><td>N</td><td>B</td><td>3300</td><td>W 4TH AV</td><td>KITSILANO</td><td>EVEN</td><td>4</td><td>17.5</td><td>Y</td><td>NA</td><td>{\"\"coordinates\"\": [-123.17866, 49.26841], \"\"type\"\": \"\"Point\"\"}</td></tr>\n",
       "\t<tr><td>3475</td><td>3378</td><td>W 4TH AV</td><td>THUJA       </td><td>OCCIDENTALIS</td><td>          </td><td>NORTHERN WHITE CEDAR       </td><td>Y</td><td>N</td><td>B</td><td>3300</td><td>W 4TH AV</td><td>KITSILANO</td><td>EVEN</td><td>2</td><td> 6.0</td><td>Y</td><td>NA</td><td>                                                              </td></tr>\n",
       "\t<tr><td>3478</td><td>3378</td><td>W 4TH AV</td><td>THUJA       </td><td>OCCIDENTALIS</td><td>          </td><td>NORTHERN WHITE CEDAR       </td><td>Y</td><td>N</td><td>B</td><td>3300</td><td>W 4TH AV</td><td>KITSILANO</td><td>EVEN</td><td>2</td><td> 6.0</td><td>Y</td><td>NA</td><td>                                                              </td></tr>\n",
       "\t<tr><td>3479</td><td>3398</td><td>W 4TH AV</td><td>CARPINUS    </td><td>BETULUS     </td><td>FASTIGIATA</td><td>PYRAMIDAL EUROPEAN HORNBEAM</td><td>Y</td><td>N</td><td>B</td><td>3300</td><td>W 4TH AV</td><td>KITSILANO</td><td>EVEN</td><td>4</td><td>15.0</td><td>Y</td><td>NA</td><td>{\"\"coordinates\"\": [-123.17871, 49.2684], \"\"type\"\": \"\"Point\"\"} </td></tr>\n",
       "\t<tr><td>3482</td><td>3506</td><td>W 4TH AV</td><td>LIRIODENDRON</td><td>TULIPIFERA  </td><td>ARNOLD    </td><td>ARNOLD TULIPTREE           </td><td>N</td><td>N</td><td>C</td><td>3500</td><td>W 4TH AV</td><td>KITSILANO</td><td>EVEN</td><td>2</td><td> 4.5</td><td>Y</td><td>1998-02-18</td><td>{\"\"coordinates\"\": [-123.18195, 49.26848], \"\"type\"\": \"\"Point\"\"}</td></tr>\n",
       "\t<tr><td>3489</td><td>3574</td><td>W 4TH AV</td><td>TILIA       </td><td>EUCHLORA   X</td><td>          </td><td>CRIMEAN LINDEN             </td><td>N</td><td>N</td><td>C</td><td>3500</td><td>W 4TH AV</td><td>KITSILANO</td><td>EVEN</td><td>4</td><td>19.5</td><td>Y</td><td>NA</td><td>{\"\"coordinates\"\": [-123.18309, 49.2685], \"\"type\"\": \"\"Point\"\"} </td></tr>\n",
       "</tbody>\n",
       "</table>\n"
      ],
      "text/latex": [
       "A data.table: 6 × 19\n",
       "\\begin{tabular}{lllllllllllllllllll}\n",
       " TREE\\_ID & CIVIC\\_NUMBER & STD\\_STREET & GENUS\\_NAME & SPECIES\\_NAME & CULTIVAR\\_NAME & COMMON\\_NAME & ASSIGNED & ROOT\\_BARRIER & PLANT\\_AREA & ON\\_STREET\\_BLOCK & ON\\_STREET & NEIGHBOURHOOD\\_NAME & STREET\\_SIDE\\_NAME & HEIGHT\\_RANGE\\_ID & DIAMETER & CURB & DATE\\_PLANTED & Geom\\\\\n",
       " <int> & <int> & <chr> & <chr> & <chr> & <chr> & <chr> & <chr> & <chr> & <chr> & <int> & <chr> & <chr> & <chr> & <int> & <dbl> & <chr> & <date> & <chr>\\\\\n",
       "\\hline\n",
       "\t 3469 & 3348 & W 4TH AV & CARPINUS     & BETULUS      & FASTIGIATA & PYRAMIDAL EUROPEAN HORNBEAM & Y & N & B & 3300 & W 4TH AV & KITSILANO & EVEN & 4 & 17.5 & Y & NA & \\{\"\"coordinates\"\": {[}-123.17866, 49.26841{]}, \"\"type\"\": \"\"Point\"\"\\}\\\\\n",
       "\t 3475 & 3378 & W 4TH AV & THUJA        & OCCIDENTALIS &            & NORTHERN WHITE CEDAR        & Y & N & B & 3300 & W 4TH AV & KITSILANO & EVEN & 2 &  6.0 & Y & NA &                                                               \\\\\n",
       "\t 3478 & 3378 & W 4TH AV & THUJA        & OCCIDENTALIS &            & NORTHERN WHITE CEDAR        & Y & N & B & 3300 & W 4TH AV & KITSILANO & EVEN & 2 &  6.0 & Y & NA &                                                               \\\\\n",
       "\t 3479 & 3398 & W 4TH AV & CARPINUS     & BETULUS      & FASTIGIATA & PYRAMIDAL EUROPEAN HORNBEAM & Y & N & B & 3300 & W 4TH AV & KITSILANO & EVEN & 4 & 15.0 & Y & NA & \\{\"\"coordinates\"\": {[}-123.17871, 49.2684{]}, \"\"type\"\": \"\"Point\"\"\\} \\\\\n",
       "\t 3482 & 3506 & W 4TH AV & LIRIODENDRON & TULIPIFERA   & ARNOLD     & ARNOLD TULIPTREE            & N & N & C & 3500 & W 4TH AV & KITSILANO & EVEN & 2 &  4.5 & Y & 1998-02-18 & \\{\"\"coordinates\"\": {[}-123.18195, 49.26848{]}, \"\"type\"\": \"\"Point\"\"\\}\\\\\n",
       "\t 3489 & 3574 & W 4TH AV & TILIA        & EUCHLORA   X &            & CRIMEAN LINDEN              & N & N & C & 3500 & W 4TH AV & KITSILANO & EVEN & 4 & 19.5 & Y & NA & \\{\"\"coordinates\"\": {[}-123.18309, 49.2685{]}, \"\"type\"\": \"\"Point\"\"\\} \\\\\n",
       "\\end{tabular}\n"
      ],
      "text/markdown": [
       "\n",
       "A data.table: 6 × 19\n",
       "\n",
       "| TREE_ID &lt;int&gt; | CIVIC_NUMBER &lt;int&gt; | STD_STREET &lt;chr&gt; | GENUS_NAME &lt;chr&gt; | SPECIES_NAME &lt;chr&gt; | CULTIVAR_NAME &lt;chr&gt; | COMMON_NAME &lt;chr&gt; | ASSIGNED &lt;chr&gt; | ROOT_BARRIER &lt;chr&gt; | PLANT_AREA &lt;chr&gt; | ON_STREET_BLOCK &lt;int&gt; | ON_STREET &lt;chr&gt; | NEIGHBOURHOOD_NAME &lt;chr&gt; | STREET_SIDE_NAME &lt;chr&gt; | HEIGHT_RANGE_ID &lt;int&gt; | DIAMETER &lt;dbl&gt; | CURB &lt;chr&gt; | DATE_PLANTED &lt;date&gt; | Geom &lt;chr&gt; |\n",
       "|---|---|---|---|---|---|---|---|---|---|---|---|---|---|---|---|---|---|---|\n",
       "| 3469 | 3348 | W 4TH AV | CARPINUS     | BETULUS      | FASTIGIATA | PYRAMIDAL EUROPEAN HORNBEAM | Y | N | B | 3300 | W 4TH AV | KITSILANO | EVEN | 4 | 17.5 | Y | NA | {\"\"coordinates\"\": [-123.17866, 49.26841], \"\"type\"\": \"\"Point\"\"} |\n",
       "| 3475 | 3378 | W 4TH AV | THUJA        | OCCIDENTALIS | <!----> | NORTHERN WHITE CEDAR        | Y | N | B | 3300 | W 4TH AV | KITSILANO | EVEN | 2 |  6.0 | Y | NA | <!----> |\n",
       "| 3478 | 3378 | W 4TH AV | THUJA        | OCCIDENTALIS | <!----> | NORTHERN WHITE CEDAR        | Y | N | B | 3300 | W 4TH AV | KITSILANO | EVEN | 2 |  6.0 | Y | NA | <!----> |\n",
       "| 3479 | 3398 | W 4TH AV | CARPINUS     | BETULUS      | FASTIGIATA | PYRAMIDAL EUROPEAN HORNBEAM | Y | N | B | 3300 | W 4TH AV | KITSILANO | EVEN | 4 | 15.0 | Y | NA | {\"\"coordinates\"\": [-123.17871, 49.2684], \"\"type\"\": \"\"Point\"\"}  |\n",
       "| 3482 | 3506 | W 4TH AV | LIRIODENDRON | TULIPIFERA   | ARNOLD     | ARNOLD TULIPTREE            | N | N | C | 3500 | W 4TH AV | KITSILANO | EVEN | 2 |  4.5 | Y | 1998-02-18 | {\"\"coordinates\"\": [-123.18195, 49.26848], \"\"type\"\": \"\"Point\"\"} |\n",
       "| 3489 | 3574 | W 4TH AV | TILIA        | EUCHLORA   X | <!----> | CRIMEAN LINDEN              | N | N | C | 3500 | W 4TH AV | KITSILANO | EVEN | 4 | 19.5 | Y | NA | {\"\"coordinates\"\": [-123.18309, 49.2685], \"\"type\"\": \"\"Point\"\"}  |\n",
       "\n"
      ],
      "text/plain": [
       "  TREE_ID CIVIC_NUMBER STD_STREET GENUS_NAME   SPECIES_NAME CULTIVAR_NAME\n",
       "1 3469    3348         W 4TH AV   CARPINUS     BETULUS      FASTIGIATA   \n",
       "2 3475    3378         W 4TH AV   THUJA        OCCIDENTALIS              \n",
       "3 3478    3378         W 4TH AV   THUJA        OCCIDENTALIS              \n",
       "4 3479    3398         W 4TH AV   CARPINUS     BETULUS      FASTIGIATA   \n",
       "5 3482    3506         W 4TH AV   LIRIODENDRON TULIPIFERA   ARNOLD       \n",
       "6 3489    3574         W 4TH AV   TILIA        EUCHLORA   X              \n",
       "  COMMON_NAME                 ASSIGNED ROOT_BARRIER PLANT_AREA ON_STREET_BLOCK\n",
       "1 PYRAMIDAL EUROPEAN HORNBEAM Y        N            B          3300           \n",
       "2 NORTHERN WHITE CEDAR        Y        N            B          3300           \n",
       "3 NORTHERN WHITE CEDAR        Y        N            B          3300           \n",
       "4 PYRAMIDAL EUROPEAN HORNBEAM Y        N            B          3300           \n",
       "5 ARNOLD TULIPTREE            N        N            C          3500           \n",
       "6 CRIMEAN LINDEN              N        N            C          3500           \n",
       "  ON_STREET NEIGHBOURHOOD_NAME STREET_SIDE_NAME HEIGHT_RANGE_ID DIAMETER CURB\n",
       "1 W 4TH AV  KITSILANO          EVEN             4               17.5     Y   \n",
       "2 W 4TH AV  KITSILANO          EVEN             2                6.0     Y   \n",
       "3 W 4TH AV  KITSILANO          EVEN             2                6.0     Y   \n",
       "4 W 4TH AV  KITSILANO          EVEN             4               15.0     Y   \n",
       "5 W 4TH AV  KITSILANO          EVEN             2                4.5     Y   \n",
       "6 W 4TH AV  KITSILANO          EVEN             4               19.5     Y   \n",
       "  DATE_PLANTED Geom                                                          \n",
       "1 <NA>         {\"\"coordinates\"\": [-123.17866, 49.26841], \"\"type\"\": \"\"Point\"\"}\n",
       "2 <NA>                                                                       \n",
       "3 <NA>                                                                       \n",
       "4 <NA>         {\"\"coordinates\"\": [-123.17871, 49.2684], \"\"type\"\": \"\"Point\"\"} \n",
       "5 1998-02-18   {\"\"coordinates\"\": [-123.18195, 49.26848], \"\"type\"\": \"\"Point\"\"}\n",
       "6 <NA>         {\"\"coordinates\"\": [-123.18309, 49.2685], \"\"type\"\": \"\"Point\"\"} "
      ]
     },
     "metadata": {},
     "output_type": "display_data"
    }
   ],
   "source": [
    "street_trees_data <- fread(\"https://opendata.vancouver.ca/explore/dataset/street-trees/download/?format=csv&timezone=America/Los_Angeles&lang=en&use_labels_for_header=true&csv_separator=%3B\")\n",
    "\n",
    "head(street_trees_data)"
   ]
  },
  {
   "cell_type": "markdown",
   "id": "f12a017b-64e2-4709-b66b-90e8bc9216e7",
   "metadata": {
    "jp-MarkdownHeadingCollapsed": true,
    "tags": []
   },
   "source": [
    "### Appendix B: Adding Necessary Packages"
   ]
  },
  {
   "cell_type": "markdown",
   "id": "2f9a97fe-2bfd-4e12-a669-5c541b53b29f",
   "metadata": {},
   "source": [
    "In order to load the packages, we have to use the code `install.packages()`. Before running the code cell below, check whether the packages are already installed in R as it takes a while to run this cell."
   ]
  },
  {
   "cell_type": "code",
   "execution_count": 7,
   "id": "13e9072f-6ee8-4992-b263-d974e215a59e",
   "metadata": {},
   "outputs": [
    {
     "name": "stderr",
     "output_type": "stream",
     "text": [
      "Updating HTML index of packages in '.Library'\n",
      "\n",
      "Making 'packages.html' ...\n",
      " done\n",
      "\n",
      "Updating HTML index of packages in '.Library'\n",
      "\n",
      "Making 'packages.html' ...\n",
      " done\n",
      "\n",
      "Updating HTML index of packages in '.Library'\n",
      "\n",
      "Making 'packages.html' ...\n",
      " done\n",
      "\n",
      "Warning message in install.packages(\"cowplot\"):\n",
      "“installation of package ‘cowplot’ had non-zero exit status”\n",
      "Updating HTML index of packages in '.Library'\n",
      "\n",
      "Making 'packages.html' ...\n",
      " done\n",
      "\n",
      "Updating HTML index of packages in '.Library'\n",
      "\n",
      "Making 'packages.html' ...\n",
      " done\n",
      "\n",
      "Warning message in install.packages(\"GGally\"):\n",
      "“installation of package ‘GGally’ had non-zero exit status”\n",
      "Updating HTML index of packages in '.Library'\n",
      "\n",
      "Making 'packages.html' ...\n",
      " done\n",
      "\n",
      "Updating HTML index of packages in '.Library'\n",
      "\n",
      "Making 'packages.html' ...\n",
      " done\n",
      "\n",
      "Updating HTML index of packages in '.Library'\n",
      "\n",
      "Making 'packages.html' ...\n",
      " done\n",
      "\n",
      "Updating HTML index of packages in '.Library'\n",
      "\n",
      "Making 'packages.html' ...\n",
      " done\n",
      "\n",
      "Updating HTML index of packages in '.Library'\n",
      "\n",
      "Making 'packages.html' ...\n",
      " done\n",
      "\n"
     ]
    }
   ],
   "source": [
    "install.packages(\"tidyverse\")\n",
    "install.packages(\"tidymodels\")\n",
    "install.packages(\"repr\")\n",
    "install.packages(\"cowplot\")\n",
    "install.packages(\"ggplot2\")\n",
    "install.packages(\"GGally\")\n",
    "install.packages(\"digest\")\n",
    "install.packages(\"infer\")\n",
    "install.packages(\"RCurl\")\n",
    "install.packages(\"data.table\")"
   ]
  },
  {
   "cell_type": "markdown",
   "id": "29802987-50ed-4861-ab78-aafc6700b4c0",
   "metadata": {},
   "source": [
    "After installing relevant packages, we need to load it into workflow using `library()`"
   ]
  }
 ],
 "metadata": {
  "kernelspec": {
   "display_name": "R",
   "language": "R",
   "name": "ir"
  },
  "language_info": {
   "codemirror_mode": "r",
   "file_extension": ".r",
   "mimetype": "text/x-r-source",
   "name": "R",
   "pygments_lexer": "r",
   "version": "4.0.5"
  }
 },
 "nbformat": 4,
 "nbformat_minor": 5
}
