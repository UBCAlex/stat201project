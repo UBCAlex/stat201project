{
 "cells": [
  {
   "cell_type": "markdown",
   "id": "c9f52ebe-3078-4406-8698-08fd9f84267d",
   "metadata": {},
   "source": [
    "# _STAT 201 Group Project Proposal_"
   ]
  },
  {
   "cell_type": "markdown",
   "id": "59e74fbd-30ac-4da6-abb0-907af941d89f",
   "metadata": {},
   "source": [
    "##### _Group 31: Alexandr Kim, Yingshan Wu, Yang Lei, Harbor Zhang_"
   ]
  },
  {
   "cell_type": "markdown",
   "id": "00c074da-1ad6-4a08-a9e3-74dcadc7e1c4",
   "metadata": {},
   "source": [
    "## Introduction"
   ]
  },
  {
   "cell_type": "code",
   "execution_count": null,
   "id": "4677d811-c38d-4c70-9f8d-c428dbe5b764",
   "metadata": {},
   "outputs": [],
   "source": []
  },
  {
   "cell_type": "markdown",
   "id": "22e1e941-fdb9-4f83-9815-01fb0a8211cc",
   "metadata": {},
   "source": [
    "## Preliminary Results"
   ]
  },
  {
   "cell_type": "code",
   "execution_count": null,
   "id": "c639af00-87a1-4cfa-ae37-b0da202e2b13",
   "metadata": {},
   "outputs": [],
   "source": []
  },
  {
   "cell_type": "markdown",
   "id": "ccda502d-a57e-42d6-bd9f-5c5c5733f390",
   "metadata": {},
   "source": [
    "## Methods: Plan"
   ]
  },
  {
   "cell_type": "code",
   "execution_count": null,
   "id": "bd815950-78ec-49b7-8a8c-bd2333353fd2",
   "metadata": {},
   "outputs": [],
   "source": []
  },
  {
   "cell_type": "code",
   "execution_count": null,
   "id": "aa7d1e9c-d7e7-4d30-8ec7-5b07b6b05eb7",
   "metadata": {},
   "outputs": [],
   "source": []
  },
  {
   "cell_type": "markdown",
   "id": "f12a017b-64e2-4709-b66b-90e8bc9216e7",
   "metadata": {
    "tags": []
   },
   "source": [
    "### Adding Necessary Packages"
   ]
  },
  {
   "cell_type": "markdown",
   "id": "2f9a97fe-2bfd-4e12-a669-5c541b53b29f",
   "metadata": {},
   "source": [
    "In order to load the packages, we have to use the code `install.packages()`"
   ]
  },
  {
   "cell_type": "code",
   "execution_count": 5,
   "id": "de8a7a12-5af0-4d59-a187-f33a3c673ae4",
   "metadata": {},
   "outputs": [
    {
     "name": "stderr",
     "output_type": "stream",
     "text": [
      "also installing the dependencies ‘rappdirs’, ‘gargle’, ‘ids’, ‘dtplyr’, ‘googledrive’, ‘googlesheets4’, ‘lubridate’\n",
      "\n",
      "\n",
      "Updating HTML index of packages in '.Library'\n",
      "\n",
      "Making 'packages.html' ...\n",
      " done\n",
      "\n",
      "also installing the dependencies ‘warp’, ‘patchwork’, ‘slider’, ‘conflicted’, ‘infer’, ‘modeldata’, ‘recipes’, ‘rsample’, ‘tune’, ‘workflowsets’\n",
      "\n",
      "\n",
      "Updating HTML index of packages in '.Library'\n",
      "\n",
      "Making 'packages.html' ...\n",
      " done\n",
      "\n",
      "Updating HTML index of packages in '.Library'\n",
      "\n",
      "Making 'packages.html' ...\n",
      " done\n",
      "\n",
      "Warning message in install.packages(\"cowplot\"):\n",
      "“installation of package ‘cowplot’ had non-zero exit status”\n",
      "Updating HTML index of packages in '.Library'\n",
      "\n",
      "Making 'packages.html' ...\n",
      " done\n",
      "\n",
      "Updating HTML index of packages in '.Library'\n",
      "\n",
      "Making 'packages.html' ...\n",
      " done\n",
      "\n",
      "Warning message in install.packages(\"GGally\"):\n",
      "“installation of package ‘GGally’ had non-zero exit status”\n",
      "Updating HTML index of packages in '.Library'\n",
      "\n",
      "Making 'packages.html' ...\n",
      " done\n",
      "\n",
      "Updating HTML index of packages in '.Library'\n",
      "\n",
      "Making 'packages.html' ...\n",
      " done\n",
      "\n",
      "Updating HTML index of packages in '.Library'\n",
      "\n",
      "Making 'packages.html' ...\n",
      " done\n",
      "\n",
      "Updating HTML index of packages in '.Library'\n",
      "\n",
      "Making 'packages.html' ...\n",
      " done\n",
      "\n"
     ]
    }
   ],
   "source": [
    "install.packages(\"tidyverse\")\n",
    "install.packages(\"tidymodels\")\n",
    "install.packages(\"repr\")\n",
    "install.packages(\"cowplot\")\n",
    "install.packages(\"ggplot2\")\n",
    "install.packages(\"GGally\")\n",
    "install.packages(\"digest\")\n",
    "install.packages(\"infer\")\n",
    "install.packages(\"RCurl\")"
   ]
  },
  {
   "cell_type": "markdown",
   "id": "29802987-50ed-4861-ab78-aafc6700b4c0",
   "metadata": {},
   "source": [
    "After installing relevant packages, we need to load it into workflow using `library()`"
   ]
  },
  {
   "cell_type": "code",
   "execution_count": 1,
   "id": "bc559b54-5eff-4c41-a890-b59e015694b6",
   "metadata": {},
   "outputs": [
    {
     "name": "stderr",
     "output_type": "stream",
     "text": [
      "── \u001b[1mAttaching packages\u001b[22m ─────────────────────────────────────── tidyverse 1.3.0 ──\n",
      "\n",
      "\u001b[32m✔\u001b[39m \u001b[34mggplot2\u001b[39m 3.3.6     \u001b[32m✔\u001b[39m \u001b[34mpurrr  \u001b[39m 0.3.4\n",
      "\u001b[32m✔\u001b[39m \u001b[34mtibble \u001b[39m 3.1.7     \u001b[32m✔\u001b[39m \u001b[34mdplyr  \u001b[39m 1.0.9\n",
      "\u001b[32m✔\u001b[39m \u001b[34mtidyr  \u001b[39m 1.2.0     \u001b[32m✔\u001b[39m \u001b[34mstringr\u001b[39m 1.4.0\n",
      "\u001b[32m✔\u001b[39m \u001b[34mreadr  \u001b[39m 2.1.2     \u001b[32m✔\u001b[39m \u001b[34mforcats\u001b[39m 0.5.1\n",
      "\n",
      "── \u001b[1mConflicts\u001b[22m ────────────────────────────────────────── tidyverse_conflicts() ──\n",
      "\u001b[31m✖\u001b[39m \u001b[34mdplyr\u001b[39m::\u001b[32mfilter()\u001b[39m masks \u001b[34mstats\u001b[39m::filter()\n",
      "\u001b[31m✖\u001b[39m \u001b[34mdplyr\u001b[39m::\u001b[32mlag()\u001b[39m    masks \u001b[34mstats\u001b[39m::lag()\n",
      "\n"
     ]
    },
    {
     "ename": "ERROR",
     "evalue": "Error in library(XML): there is no package called ‘XML’\n",
     "output_type": "error",
     "traceback": [
      "Error in library(XML): there is no package called ‘XML’\nTraceback:\n",
      "1. library(XML)"
     ]
    }
   ],
   "source": [
    "library(tidyverse)\n",
    "library(cowplot)\n",
    "library(infer)\n",
    "library(repr)\n",
    "library(ggplot2)\n",
    "library(XML)\n",
    "library(RCurl)"
   ]
  },
  {
   "cell_type": "code",
   "execution_count": null,
   "id": "7da9026b-a748-4593-9ccb-0b06cbf1978e",
   "metadata": {},
   "outputs": [],
   "source": []
  },
  {
   "cell_type": "code",
   "execution_count": null,
   "id": "dc95e3f8-910f-4567-a913-788415a5605c",
   "metadata": {},
   "outputs": [],
   "source": []
  },
  {
   "cell_type": "markdown",
   "id": "375bcfb3-5f0d-40fc-9fb2-ee34dce616c5",
   "metadata": {},
   "source": [
    "### Appendix A: Data set for street trees in Vancouver (BC, Canada) recorded by City of Vancouver"
   ]
  },
  {
   "cell_type": "code",
   "execution_count": 11,
   "id": "06958b16-f921-4b77-bacb-c76185b8ed9d",
   "metadata": {},
   "outputs": [
    {
     "name": "stderr",
     "output_type": "stream",
     "text": [
      "Updating HTML index of packages in '.Library'\n",
      "\n",
      "Making 'packages.html' ...\n",
      " done\n",
      "\n"
     ]
    }
   ],
   "source": [
    "install.packages(\"data.table\")"
   ]
  },
  {
   "cell_type": "code",
   "execution_count": 12,
   "id": "c1207a42-8d16-4af1-a6a0-ba0efef41c1b",
   "metadata": {},
   "outputs": [
    {
     "name": "stderr",
     "output_type": "stream",
     "text": [
      "\n",
      "Attaching package: ‘data.table’\n",
      "\n",
      "\n",
      "The following objects are masked from ‘package:dplyr’:\n",
      "\n",
      "    between, first, last\n",
      "\n",
      "\n",
      "The following object is masked from ‘package:purrr’:\n",
      "\n",
      "    transpose\n",
      "\n",
      "\n"
     ]
    }
   ],
   "source": [
    "library(data.table)"
   ]
  },
  {
   "cell_type": "code",
   "execution_count": 13,
   "id": "b205b954-ee40-495b-933b-f4f850f8b2e9",
   "metadata": {},
   "outputs": [
    {
     "name": "stderr",
     "output_type": "stream",
     "text": [
      "Warning message in fread(\"https://opendata.vancouver.ca/explore/dataset/street-trees/table/?disjunctive.species_name&disjunctive.common_name&disjunctive.on_street&disjunctive.neighbourhood_name&dataChart=eyJxdWVyaWVzIjpbeyJjaGFydHMiOlt7InR5cGUiOiJsaW5lIiwiZnVuYyI6IkNPVU5UIiwieUF4aXMiOiJoZWlnaHRfcmFuZ2VfaWQiLCJzY2llbnRpZmljRGlzcGxheSI6dHJ1ZSwiY29sb3IiOiIjMDI3OUIxIn1dLCJ4QXhpcyI6ImRhdGVfcGxhbnRlZCIsIm1heHBvaW50cyI6IiIsInRpbWVzY2FsZSI6InllYXIiLCJzb3J0IjoiIiwiY29uZmlnIjp7ImRhdGFzZXQiOiJzdHJlZXQtdHJlZXMiLCJvcHRpb25zIjp7ImRpc2p1bmN0aXZlLnNwZWNpZXNfbmFtZSI6dHJ1ZSwiZGlzanVuY3RpdmUuY29tbW9uX25hbWUiOnRydWUsImRpc2p1bmN0aXZlLm9uX3N0cmVldCI6dHJ1ZSwiZGlzanVuY3RpdmUubmVpZ2hib3VyaG9vZF9uYW1lIjp0cnVlfX19XSwiZGlzcGxheUxlZ2VuZCI6dHJ1ZSwiYWxpZ25Nb250aCI6dHJ1ZX0%3D\"):\n",
      "“Stopped early on line 72. Expected 5 fields but found 0. Consider fill=TRUE and comment.char=. First discarded non-empty line: <<<base href=\"/explore/dataset/street-trees/\">>>”\n"
     ]
    },
    {
     "data": {
      "text/html": [
       "<table class=\"dataframe\">\n",
       "<caption>A data.table: 1 × 5</caption>\n",
       "<thead>\n",
       "\t<tr><th scope=col>&lt;link rel=\"alternate\" type=\"application/rss+xml\" title=\"Street trees\" href=\"http://opendata.vancouver.ca/explore/dataset/street-trees/rss/?disjunctive.species_name=&amp;amp</th><th scope=col>disjunctive.common_name=&amp;amp</th><th scope=col>disjunctive.on_street=&amp;amp</th><th scope=col>disjunctive.neighbourhood_name=&amp;amp</th><th scope=col>dataChart=eyJxdWVyaWVzIjpbeyJjaGFydHMiOlt7InR5cGUiOiJsaW5lIiwiZnVuYyI6IkNPVU5UIiwieUF4aXMiOiJoZWlnaHRfcmFuZ2VfaWQiLCJzY2llbnRpZmljRGlzcGxheSI6dHJ1ZSwiY29sb3IiOiIjMDI3OUIxIn1dLCJ4QXhpcyI6ImRhdGVfcGxhbnRlZCIsIm1heHBvaW50cyI6IiIsInRpbWVzY2FsZSI6InllYXIiLCJzb3J0IjoiIiwiY29uZmlnIjp7ImRhdGFzZXQiOiJzdHJlZXQtdHJlZXMiLCJvcHRpb25zIjp7ImRpc2p1bmN0aXZlLnNwZWNpZXNfbmFtZSI6dHJ1ZSwiZGlzanVuY3RpdmUuY29tbW9uX25hbWUiOnRydWUsImRpc2p1bmN0aXZlLm9uX3N0cmVldCI6dHJ1ZSwiZGlzanVuY3RpdmUubmVpZ2hib3VyaG9vZF9uYW1lIjp0cnVlfX19XSwiZGlzcGxheUxlZ2VuZCI6dHJ1ZSwiYWxpZ25Nb250aCI6dHJ1ZX0%3D\" /&gt;</th></tr>\n",
       "\t<tr><th scope=col>&lt;chr&gt;</th><th scope=col>&lt;chr&gt;</th><th scope=col>&lt;chr&gt;</th><th scope=col>&lt;chr&gt;</th><th scope=col>&lt;chr&gt;</th></tr>\n",
       "</thead>\n",
       "<tbody>\n",
       "\t<tr><td>&lt;link rel=\"alternate\" type=\"application/atom+xml\" title=\"Street trees\" href=\"http://opendata.vancouver.ca/explore/dataset/street-trees/atom/?disjunctive.species_name=&amp;amp</td><td>disjunctive.common_name=&amp;amp</td><td>disjunctive.on_street=&amp;amp</td><td>disjunctive.neighbourhood_name=&amp;amp</td><td>dataChart=eyJxdWVyaWVzIjpbeyJjaGFydHMiOlt7InR5cGUiOiJsaW5lIiwiZnVuYyI6IkNPVU5UIiwieUF4aXMiOiJoZWlnaHRfcmFuZ2VfaWQiLCJzY2llbnRpZmljRGlzcGxheSI6dHJ1ZSwiY29sb3IiOiIjMDI3OUIxIn1dLCJ4QXhpcyI6ImRhdGVfcGxhbnRlZCIsIm1heHBvaW50cyI6IiIsInRpbWVzY2FsZSI6InllYXIiLCJzb3J0IjoiIiwiY29uZmlnIjp7ImRhdGFzZXQiOiJzdHJlZXQtdHJlZXMiLCJvcHRpb25zIjp7ImRpc2p1bmN0aXZlLnNwZWNpZXNfbmFtZSI6dHJ1ZSwiZGlzanVuY3RpdmUuY29tbW9uX25hbWUiOnRydWUsImRpc2p1bmN0aXZlLm9uX3N0cmVldCI6dHJ1ZSwiZGlzanVuY3RpdmUubmVpZ2hib3VyaG9vZF9uYW1lIjp0cnVlfX19XSwiZGlzcGxheUxlZ2VuZCI6dHJ1ZSwiYWxpZ25Nb250aCI6dHJ1ZX0%3D\" /&gt;</td></tr>\n",
       "</tbody>\n",
       "</table>\n"
      ],
      "text/latex": [
       "A data.table: 1 × 5\n",
       "\\begin{tabular}{lllll}\n",
       " <link rel=\"alternate\" type=\"application/rss+xml\" title=\"Street trees\" href=\"http://opendata.vancouver.ca/explore/dataset/street-trees/rss/?disjunctive.species\\_name=\\&amp & disjunctive.common\\_name=\\&amp & disjunctive.on\\_street=\\&amp & disjunctive.neighbourhood\\_name=\\&amp & dataChart=eyJxdWVyaWVzIjpbeyJjaGFydHMiOlt7InR5cGUiOiJsaW5lIiwiZnVuYyI6IkNPVU5UIiwieUF4aXMiOiJoZWlnaHRfcmFuZ2VfaWQiLCJzY2llbnRpZmljRGlzcGxheSI6dHJ1ZSwiY29sb3IiOiIjMDI3OUIxIn1dLCJ4QXhpcyI6ImRhdGVfcGxhbnRlZCIsIm1heHBvaW50cyI6IiIsInRpbWVzY2FsZSI6InllYXIiLCJzb3J0IjoiIiwiY29uZmlnIjp7ImRhdGFzZXQiOiJzdHJlZXQtdHJlZXMiLCJvcHRpb25zIjp7ImRpc2p1bmN0aXZlLnNwZWNpZXNfbmFtZSI6dHJ1ZSwiZGlzanVuY3RpdmUuY29tbW9uX25hbWUiOnRydWUsImRpc2p1bmN0aXZlLm9uX3N0cmVldCI6dHJ1ZSwiZGlzanVuY3RpdmUubmVpZ2hib3VyaG9vZF9uYW1lIjp0cnVlfX19XSwiZGlzcGxheUxlZ2VuZCI6dHJ1ZSwiYWxpZ25Nb250aCI6dHJ1ZX0\\%3D\" />\\\\\n",
       " <chr> & <chr> & <chr> & <chr> & <chr>\\\\\n",
       "\\hline\n",
       "\t <link rel=\"alternate\" type=\"application/atom+xml\" title=\"Street trees\" href=\"http://opendata.vancouver.ca/explore/dataset/street-trees/atom/?disjunctive.species\\_name=\\&amp & disjunctive.common\\_name=\\&amp & disjunctive.on\\_street=\\&amp & disjunctive.neighbourhood\\_name=\\&amp & dataChart=eyJxdWVyaWVzIjpbeyJjaGFydHMiOlt7InR5cGUiOiJsaW5lIiwiZnVuYyI6IkNPVU5UIiwieUF4aXMiOiJoZWlnaHRfcmFuZ2VfaWQiLCJzY2llbnRpZmljRGlzcGxheSI6dHJ1ZSwiY29sb3IiOiIjMDI3OUIxIn1dLCJ4QXhpcyI6ImRhdGVfcGxhbnRlZCIsIm1heHBvaW50cyI6IiIsInRpbWVzY2FsZSI6InllYXIiLCJzb3J0IjoiIiwiY29uZmlnIjp7ImRhdGFzZXQiOiJzdHJlZXQtdHJlZXMiLCJvcHRpb25zIjp7ImRpc2p1bmN0aXZlLnNwZWNpZXNfbmFtZSI6dHJ1ZSwiZGlzanVuY3RpdmUuY29tbW9uX25hbWUiOnRydWUsImRpc2p1bmN0aXZlLm9uX3N0cmVldCI6dHJ1ZSwiZGlzanVuY3RpdmUubmVpZ2hib3VyaG9vZF9uYW1lIjp0cnVlfX19XSwiZGlzcGxheUxlZ2VuZCI6dHJ1ZSwiYWxpZ25Nb250aCI6dHJ1ZX0\\%3D\" />\\\\\n",
       "\\end{tabular}\n"
      ],
      "text/markdown": [
       "\n",
       "A data.table: 1 × 5\n",
       "\n",
       "| &lt;link rel=\"alternate\" type=\"application/rss+xml\" title=\"Street trees\" href=\"http://opendata.vancouver.ca/explore/dataset/street-trees/rss/?disjunctive.species_name=&amp;amp &lt;chr&gt; | disjunctive.common_name=&amp;amp &lt;chr&gt; | disjunctive.on_street=&amp;amp &lt;chr&gt; | disjunctive.neighbourhood_name=&amp;amp &lt;chr&gt; | dataChart=eyJxdWVyaWVzIjpbeyJjaGFydHMiOlt7InR5cGUiOiJsaW5lIiwiZnVuYyI6IkNPVU5UIiwieUF4aXMiOiJoZWlnaHRfcmFuZ2VfaWQiLCJzY2llbnRpZmljRGlzcGxheSI6dHJ1ZSwiY29sb3IiOiIjMDI3OUIxIn1dLCJ4QXhpcyI6ImRhdGVfcGxhbnRlZCIsIm1heHBvaW50cyI6IiIsInRpbWVzY2FsZSI6InllYXIiLCJzb3J0IjoiIiwiY29uZmlnIjp7ImRhdGFzZXQiOiJzdHJlZXQtdHJlZXMiLCJvcHRpb25zIjp7ImRpc2p1bmN0aXZlLnNwZWNpZXNfbmFtZSI6dHJ1ZSwiZGlzanVuY3RpdmUuY29tbW9uX25hbWUiOnRydWUsImRpc2p1bmN0aXZlLm9uX3N0cmVldCI6dHJ1ZSwiZGlzanVuY3RpdmUubmVpZ2hib3VyaG9vZF9uYW1lIjp0cnVlfX19XSwiZGlzcGxheUxlZ2VuZCI6dHJ1ZSwiYWxpZ25Nb250aCI6dHJ1ZX0%3D\" /&gt; &lt;chr&gt; |\n",
       "|---|---|---|---|---|\n",
       "| &lt;link rel=\"alternate\" type=\"application/atom+xml\" title=\"Street trees\" href=\"http://opendata.vancouver.ca/explore/dataset/street-trees/atom/?disjunctive.species_name=&amp;amp | disjunctive.common_name=&amp;amp | disjunctive.on_street=&amp;amp | disjunctive.neighbourhood_name=&amp;amp | dataChart=eyJxdWVyaWVzIjpbeyJjaGFydHMiOlt7InR5cGUiOiJsaW5lIiwiZnVuYyI6IkNPVU5UIiwieUF4aXMiOiJoZWlnaHRfcmFuZ2VfaWQiLCJzY2llbnRpZmljRGlzcGxheSI6dHJ1ZSwiY29sb3IiOiIjMDI3OUIxIn1dLCJ4QXhpcyI6ImRhdGVfcGxhbnRlZCIsIm1heHBvaW50cyI6IiIsInRpbWVzY2FsZSI6InllYXIiLCJzb3J0IjoiIiwiY29uZmlnIjp7ImRhdGFzZXQiOiJzdHJlZXQtdHJlZXMiLCJvcHRpb25zIjp7ImRpc2p1bmN0aXZlLnNwZWNpZXNfbmFtZSI6dHJ1ZSwiZGlzanVuY3RpdmUuY29tbW9uX25hbWUiOnRydWUsImRpc2p1bmN0aXZlLm9uX3N0cmVldCI6dHJ1ZSwiZGlzanVuY3RpdmUubmVpZ2hib3VyaG9vZF9uYW1lIjp0cnVlfX19XSwiZGlzcGxheUxlZ2VuZCI6dHJ1ZSwiYWxpZ25Nb250aCI6dHJ1ZX0%3D\" /&gt; |\n",
       "\n"
      ],
      "text/plain": [
       "  <link rel=\"alternate\" type=\"application/rss+xml\" title=\"Street trees\" href=\"http://opendata.vancouver.ca/explore/dataset/street-trees/rss/?disjunctive.species_name=&amp  \n",
       "1 <link rel=\"alternate\" type=\"application/atom+xml\" title=\"Street trees\" href=\"http://opendata.vancouver.ca/explore/dataset/street-trees/atom/?disjunctive.species_name=&amp\n",
       "  disjunctive.common_name=&amp disjunctive.on_street=&amp\n",
       "1 disjunctive.common_name=&amp disjunctive.on_street=&amp\n",
       "  disjunctive.neighbourhood_name=&amp\n",
       "1 disjunctive.neighbourhood_name=&amp\n",
       "  dataChart=eyJxdWVyaWVzIjpbeyJjaGFydHMiOlt7InR5cGUiOiJsaW5lIiwiZnVuYyI6IkNPVU5UIiwieUF4aXMiOiJoZWlnaHRfcmFuZ2VfaWQiLCJzY2llbnRpZmljRGlzcGxheSI6dHJ1ZSwiY29sb3IiOiIjMDI3OUIxIn1dLCJ4QXhpcyI6ImRhdGVfcGxhbnRlZCIsIm1heHBvaW50cyI6IiIsInRpbWVzY2FsZSI6InllYXIiLCJzb3J0IjoiIiwiY29uZmlnIjp7ImRhdGFzZXQiOiJzdHJlZXQtdHJlZXMiLCJvcHRpb25zIjp7ImRpc2p1bmN0aXZlLnNwZWNpZXNfbmFtZSI6dHJ1ZSwiZGlzanVuY3RpdmUuY29tbW9uX25hbWUiOnRydWUsImRpc2p1bmN0aXZlLm9uX3N0cmVldCI6dHJ1ZSwiZGlzanVuY3RpdmUubmVpZ2hib3VyaG9vZF9uYW1lIjp0cnVlfX19XSwiZGlzcGxheUxlZ2VuZCI6dHJ1ZSwiYWxpZ25Nb250aCI6dHJ1ZX0%3D\" />\n",
       "1 dataChart=eyJxdWVyaWVzIjpbeyJjaGFydHMiOlt7InR5cGUiOiJsaW5lIiwiZnVuYyI6IkNPVU5UIiwieUF4aXMiOiJoZWlnaHRfcmFuZ2VfaWQiLCJzY2llbnRpZmljRGlzcGxheSI6dHJ1ZSwiY29sb3IiOiIjMDI3OUIxIn1dLCJ4QXhpcyI6ImRhdGVfcGxhbnRlZCIsIm1heHBvaW50cyI6IiIsInRpbWVzY2FsZSI6InllYXIiLCJzb3J0IjoiIiwiY29uZmlnIjp7ImRhdGFzZXQiOiJzdHJlZXQtdHJlZXMiLCJvcHRpb25zIjp7ImRpc2p1bmN0aXZlLnNwZWNpZXNfbmFtZSI6dHJ1ZSwiZGlzanVuY3RpdmUuY29tbW9uX25hbWUiOnRydWUsImRpc2p1bmN0aXZlLm9uX3N0cmVldCI6dHJ1ZSwiZGlzanVuY3RpdmUubmVpZ2hib3VyaG9vZF9uYW1lIjp0cnVlfX19XSwiZGlzcGxheUxlZ2VuZCI6dHJ1ZSwiYWxpZ25Nb250aCI6dHJ1ZX0%3D\" />"
      ]
     },
     "metadata": {},
     "output_type": "display_data"
    }
   ],
   "source": [
    "street_trees_data <- fread(\"https://opendata.vancouver.ca/explore/dataset/street-trees/table/?disjunctive.species_name&disjunctive.common_name&disjunctive.on_street&disjunctive.neighbourhood_name&dataChart=eyJxdWVyaWVzIjpbeyJjaGFydHMiOlt7InR5cGUiOiJsaW5lIiwiZnVuYyI6IkNPVU5UIiwieUF4aXMiOiJoZWlnaHRfcmFuZ2VfaWQiLCJzY2llbnRpZmljRGlzcGxheSI6dHJ1ZSwiY29sb3IiOiIjMDI3OUIxIn1dLCJ4QXhpcyI6ImRhdGVfcGxhbnRlZCIsIm1heHBvaW50cyI6IiIsInRpbWVzY2FsZSI6InllYXIiLCJzb3J0IjoiIiwiY29uZmlnIjp7ImRhdGFzZXQiOiJzdHJlZXQtdHJlZXMiLCJvcHRpb25zIjp7ImRpc2p1bmN0aXZlLnNwZWNpZXNfbmFtZSI6dHJ1ZSwiZGlzanVuY3RpdmUuY29tbW9uX25hbWUiOnRydWUsImRpc2p1bmN0aXZlLm9uX3N0cmVldCI6dHJ1ZSwiZGlzanVuY3RpdmUubmVpZ2hib3VyaG9vZF9uYW1lIjp0cnVlfX19XSwiZGlzcGxheUxlZ2VuZCI6dHJ1ZSwiYWxpZ25Nb250aCI6dHJ1ZX0%3D\")\n",
    "\n",
    "head(street_trees_data)"
   ]
  }
 ],
 "metadata": {
  "kernelspec": {
   "display_name": "R",
   "language": "R",
   "name": "ir"
  },
  "language_info": {
   "codemirror_mode": "r",
   "file_extension": ".r",
   "mimetype": "text/x-r-source",
   "name": "R",
   "pygments_lexer": "r",
   "version": "4.0.5"
  }
 },
 "nbformat": 4,
 "nbformat_minor": 5
}
