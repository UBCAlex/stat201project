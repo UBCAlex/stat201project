{
 "cells": [
  {
   "cell_type": "markdown",
   "id": "c9f52ebe-3078-4406-8698-08fd9f84267d",
   "metadata": {},
   "source": [
    "# STAT 201 Group Project Proposal"
   ]
  },
  {
   "cell_type": "markdown",
   "id": "59e74fbd-30ac-4da6-abb0-907af941d89f",
   "metadata": {},
   "source": [
    "##### Group 31: Alexandr Kim, Yingshan Wu, Yang Lei, Harbor Zhang"
   ]
  }
 ],
 "metadata": {
  "kernelspec": {
   "display_name": "R",
   "language": "R",
   "name": "ir"
  },
  "language_info": {
   "codemirror_mode": "r",
   "file_extension": ".r",
   "mimetype": "text/x-r-source",
   "name": "R",
   "pygments_lexer": "r",
   "version": "4.0.5"
  }
 },
 "nbformat": 4,
 "nbformat_minor": 5
}
