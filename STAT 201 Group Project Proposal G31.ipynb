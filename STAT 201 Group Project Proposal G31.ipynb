{
 "cells": [
  {
   "cell_type": "markdown",
   "id": "c9f52ebe-3078-4406-8698-08fd9f84267d",
   "metadata": {},
   "source": [
    "# _STAT 201 Group Project Proposal_"
   ]
  },
  {
   "cell_type": "markdown",
   "id": "59e74fbd-30ac-4da6-abb0-907af941d89f",
   "metadata": {},
   "source": [
    "##### _Group 31: Alexandr Kim, Yingshan Wu, Yang Lei, Harbor Zhang_"
   ]
  },
  {
   "cell_type": "code",
   "execution_count": null,
   "id": "ccee481c-0232-414d-a56b-5aae7f88203c",
   "metadata": {},
   "outputs": [],
   "source": []
  },
  {
   "cell_type": "code",
   "execution_count": null,
   "id": "4677d811-c38d-4c70-9f8d-c428dbe5b764",
   "metadata": {},
   "outputs": [],
   "source": []
  },
  {
   "cell_type": "markdown",
   "id": "f12a017b-64e2-4709-b66b-90e8bc9216e7",
   "metadata": {
    "tags": []
   },
   "source": [
    "### Adding Necessary Packages"
   ]
  },
  {
   "cell_type": "markdown",
   "id": "2f9a97fe-2bfd-4e12-a669-5c541b53b29f",
   "metadata": {},
   "source": [
    "In order to load the packages, we have to use the code `install.packages()`"
   ]
  },
  {
   "cell_type": "code",
   "execution_count": 5,
   "id": "de8a7a12-5af0-4d59-a187-f33a3c673ae4",
   "metadata": {},
   "outputs": [
    {
     "name": "stderr",
     "output_type": "stream",
     "text": [
      "also installing the dependencies ‘rappdirs’, ‘gargle’, ‘ids’, ‘dtplyr’, ‘googledrive’, ‘googlesheets4’, ‘lubridate’\n",
      "\n",
      "\n",
      "Updating HTML index of packages in '.Library'\n",
      "\n",
      "Making 'packages.html' ...\n",
      " done\n",
      "\n",
      "also installing the dependencies ‘warp’, ‘patchwork’, ‘slider’, ‘conflicted’, ‘infer’, ‘modeldata’, ‘recipes’, ‘rsample’, ‘tune’, ‘workflowsets’\n",
      "\n",
      "\n",
      "Updating HTML index of packages in '.Library'\n",
      "\n",
      "Making 'packages.html' ...\n",
      " done\n",
      "\n",
      "Updating HTML index of packages in '.Library'\n",
      "\n",
      "Making 'packages.html' ...\n",
      " done\n",
      "\n",
      "Warning message in install.packages(\"cowplot\"):\n",
      "“installation of package ‘cowplot’ had non-zero exit status”\n",
      "Updating HTML index of packages in '.Library'\n",
      "\n",
      "Making 'packages.html' ...\n",
      " done\n",
      "\n",
      "Updating HTML index of packages in '.Library'\n",
      "\n",
      "Making 'packages.html' ...\n",
      " done\n",
      "\n",
      "Warning message in install.packages(\"GGally\"):\n",
      "“installation of package ‘GGally’ had non-zero exit status”\n",
      "Updating HTML index of packages in '.Library'\n",
      "\n",
      "Making 'packages.html' ...\n",
      " done\n",
      "\n",
      "Updating HTML index of packages in '.Library'\n",
      "\n",
      "Making 'packages.html' ...\n",
      " done\n",
      "\n",
      "Updating HTML index of packages in '.Library'\n",
      "\n",
      "Making 'packages.html' ...\n",
      " done\n",
      "\n",
      "Updating HTML index of packages in '.Library'\n",
      "\n",
      "Making 'packages.html' ...\n",
      " done\n",
      "\n"
     ]
    }
   ],
   "source": [
    "install.packages(\"tidyverse\")\n",
    "install.packages(\"tidymodels\")\n",
    "install.packages(\"repr\")\n",
    "install.packages(\"cowplot\")\n",
    "install.packages(\"ggplot2\")\n",
    "install.packages(\"GGally\")\n",
    "install.packages(\"digest\")\n",
    "install.packages(\"infer\")\n",
    "install.packages(\"RCurl\")"
   ]
  },
  {
   "cell_type": "markdown",
   "id": "29802987-50ed-4861-ab78-aafc6700b4c0",
   "metadata": {},
   "source": [
    "After installing relevant packages, we need to load it into workflow using `library()`"
   ]
  },
  {
   "cell_type": "code",
   "execution_count": 1,
   "id": "bc559b54-5eff-4c41-a890-b59e015694b6",
   "metadata": {},
   "outputs": [
    {
     "name": "stderr",
     "output_type": "stream",
     "text": [
      "── \u001b[1mAttaching packages\u001b[22m ─────────────────────────────────────── tidyverse 1.3.0 ──\n",
      "\n",
      "\u001b[32m✔\u001b[39m \u001b[34mggplot2\u001b[39m 3.3.6     \u001b[32m✔\u001b[39m \u001b[34mpurrr  \u001b[39m 0.3.4\n",
      "\u001b[32m✔\u001b[39m \u001b[34mtibble \u001b[39m 3.1.7     \u001b[32m✔\u001b[39m \u001b[34mdplyr  \u001b[39m 1.0.9\n",
      "\u001b[32m✔\u001b[39m \u001b[34mtidyr  \u001b[39m 1.2.0     \u001b[32m✔\u001b[39m \u001b[34mstringr\u001b[39m 1.4.0\n",
      "\u001b[32m✔\u001b[39m \u001b[34mreadr  \u001b[39m 2.1.2     \u001b[32m✔\u001b[39m \u001b[34mforcats\u001b[39m 0.5.1\n",
      "\n",
      "── \u001b[1mConflicts\u001b[22m ────────────────────────────────────────── tidyverse_conflicts() ──\n",
      "\u001b[31m✖\u001b[39m \u001b[34mdplyr\u001b[39m::\u001b[32mfilter()\u001b[39m masks \u001b[34mstats\u001b[39m::filter()\n",
      "\u001b[31m✖\u001b[39m \u001b[34mdplyr\u001b[39m::\u001b[32mlag()\u001b[39m    masks \u001b[34mstats\u001b[39m::lag()\n",
      "\n"
     ]
    },
    {
     "ename": "ERROR",
     "evalue": "Error in library(XML): there is no package called ‘XML’\n",
     "output_type": "error",
     "traceback": [
      "Error in library(XML): there is no package called ‘XML’\nTraceback:\n",
      "1. library(XML)"
     ]
    }
   ],
   "source": [
    "library(tidyverse)\n",
    "library(cowplot)\n",
    "library(infer)\n",
    "library(repr)\n",
    "library(ggplot2)\n",
    "library(XML)\n",
    "library(RCurl)"
   ]
  },
  {
   "cell_type": "code",
   "execution_count": null,
   "id": "7da9026b-a748-4593-9ccb-0b06cbf1978e",
   "metadata": {},
   "outputs": [],
   "source": []
  },
  {
   "cell_type": "markdown",
   "id": "375bcfb3-5f0d-40fc-9fb2-ee34dce616c5",
   "metadata": {},
   "source": [
    "### Appendix A: Data set for street trees in Vancouver (BC, Canada) recorded by City of Vancouver"
   ]
  },
  {
   "cell_type": "code",
   "execution_count": 5,
   "id": "b205b954-ee40-495b-933b-f4f850f8b2e9",
   "metadata": {},
   "outputs": [
    {
     "data": {
      "text/html": [
       "<table class=\"dataframe\">\n",
       "<caption>A data.frame: 6 × 1</caption>\n",
       "<thead>\n",
       "\t<tr><th></th><th scope=col>TREE_ID.CIVIC_NUMBER.STD_STREET.GENUS_NAME.SPECIES_NAME.CULTIVAR_NAME.COMMON_NAME.ASSIGNED.ROOT_BARRIER.PLANT_AREA.ON_STREET_BLOCK.ON_STREET.NEIGHBOURHOOD_NAME.STREET_SIDE_NAME.HEIGHT_RANGE_ID.DIAMETER.CURB.DATE_PLANTED.Geom</th></tr>\n",
       "\t<tr><th></th><th scope=col>&lt;chr&gt;</th></tr>\n",
       "</thead>\n",
       "<tbody>\n",
       "\t<tr><th scope=row>1</th><td>3469;3348;W 4TH AV;CARPINUS;BETULUS;FASTIGIATA;PYRAMIDAL EUROPEAN HORNBEAM;Y;N;B;3300;W 4TH AV;KITSILANO;EVEN;4;17.5;Y;;{\"coordinates\": [-123.17866, 49.26841], \"type\": \"Point\"} </td></tr>\n",
       "\t<tr><th scope=row>2</th><td>3475;3378;W 4TH AV;THUJA;OCCIDENTALIS;;NORTHERN WHITE CEDAR;Y;N;B;3300;W 4TH AV;KITSILANO;EVEN;2;6.0;Y;;                                                                         </td></tr>\n",
       "\t<tr><th scope=row>3</th><td>3478;3378;W 4TH AV;THUJA;OCCIDENTALIS;;NORTHERN WHITE CEDAR;Y;N;B;3300;W 4TH AV;KITSILANO;EVEN;2;6.0;Y;;                                                                         </td></tr>\n",
       "\t<tr><th scope=row>4</th><td>3479;3398;W 4TH AV;CARPINUS;BETULUS;FASTIGIATA;PYRAMIDAL EUROPEAN HORNBEAM;Y;N;B;3300;W 4TH AV;KITSILANO;EVEN;4;15.0;Y;;{\"coordinates\": [-123.17871, 49.2684], \"type\": \"Point\"}  </td></tr>\n",
       "\t<tr><th scope=row>5</th><td>3482;3506;W 4TH AV;LIRIODENDRON;TULIPIFERA;ARNOLD;ARNOLD TULIPTREE;N;N;C;3500;W 4TH AV;KITSILANO;EVEN;2;4.5;Y;1998-02-18;{\"coordinates\": [-123.18195, 49.26848], \"type\": \"Point\"}</td></tr>\n",
       "\t<tr><th scope=row>6</th><td>3489;3574;W 4TH AV;TILIA;EUCHLORA   X;;CRIMEAN LINDEN;N;N;C;3500;W 4TH AV;KITSILANO;EVEN;4;19.5;Y;;{\"coordinates\": [-123.18309, 49.2685], \"type\": \"Point\"}                       </td></tr>\n",
       "</tbody>\n",
       "</table>\n"
      ],
      "text/latex": [
       "A data.frame: 6 × 1\n",
       "\\begin{tabular}{r|l}\n",
       "  & TREE\\_ID.CIVIC\\_NUMBER.STD\\_STREET.GENUS\\_NAME.SPECIES\\_NAME.CULTIVAR\\_NAME.COMMON\\_NAME.ASSIGNED.ROOT\\_BARRIER.PLANT\\_AREA.ON\\_STREET\\_BLOCK.ON\\_STREET.NEIGHBOURHOOD\\_NAME.STREET\\_SIDE\\_NAME.HEIGHT\\_RANGE\\_ID.DIAMETER.CURB.DATE\\_PLANTED.Geom\\\\\n",
       "  & <chr>\\\\\n",
       "\\hline\n",
       "\t1 & 3469;3348;W 4TH AV;CARPINUS;BETULUS;FASTIGIATA;PYRAMIDAL EUROPEAN HORNBEAM;Y;N;B;3300;W 4TH AV;KITSILANO;EVEN;4;17.5;Y;;\\{\"coordinates\": {[}-123.17866, 49.26841{]}, \"type\": \"Point\"\\} \\\\\n",
       "\t2 & 3475;3378;W 4TH AV;THUJA;OCCIDENTALIS;;NORTHERN WHITE CEDAR;Y;N;B;3300;W 4TH AV;KITSILANO;EVEN;2;6.0;Y;;                                                                         \\\\\n",
       "\t3 & 3478;3378;W 4TH AV;THUJA;OCCIDENTALIS;;NORTHERN WHITE CEDAR;Y;N;B;3300;W 4TH AV;KITSILANO;EVEN;2;6.0;Y;;                                                                         \\\\\n",
       "\t4 & 3479;3398;W 4TH AV;CARPINUS;BETULUS;FASTIGIATA;PYRAMIDAL EUROPEAN HORNBEAM;Y;N;B;3300;W 4TH AV;KITSILANO;EVEN;4;15.0;Y;;\\{\"coordinates\": {[}-123.17871, 49.2684{]}, \"type\": \"Point\"\\}  \\\\\n",
       "\t5 & 3482;3506;W 4TH AV;LIRIODENDRON;TULIPIFERA;ARNOLD;ARNOLD TULIPTREE;N;N;C;3500;W 4TH AV;KITSILANO;EVEN;2;4.5;Y;1998-02-18;\\{\"coordinates\": {[}-123.18195, 49.26848{]}, \"type\": \"Point\"\\}\\\\\n",
       "\t6 & 3489;3574;W 4TH AV;TILIA;EUCHLORA   X;;CRIMEAN LINDEN;N;N;C;3500;W 4TH AV;KITSILANO;EVEN;4;19.5;Y;;\\{\"coordinates\": {[}-123.18309, 49.2685{]}, \"type\": \"Point\"\\}                       \\\\\n",
       "\\end{tabular}\n"
      ],
      "text/markdown": [
       "\n",
       "A data.frame: 6 × 1\n",
       "\n",
       "| <!--/--> | TREE_ID.CIVIC_NUMBER.STD_STREET.GENUS_NAME.SPECIES_NAME.CULTIVAR_NAME.COMMON_NAME.ASSIGNED.ROOT_BARRIER.PLANT_AREA.ON_STREET_BLOCK.ON_STREET.NEIGHBOURHOOD_NAME.STREET_SIDE_NAME.HEIGHT_RANGE_ID.DIAMETER.CURB.DATE_PLANTED.Geom &lt;chr&gt; |\n",
       "|---|---|\n",
       "| 1 | 3469;3348;W 4TH AV;CARPINUS;BETULUS;FASTIGIATA;PYRAMIDAL EUROPEAN HORNBEAM;Y;N;B;3300;W 4TH AV;KITSILANO;EVEN;4;17.5;Y;;{\"coordinates\": [-123.17866, 49.26841], \"type\": \"Point\"}  |\n",
       "| 2 | 3475;3378;W 4TH AV;THUJA;OCCIDENTALIS;;NORTHERN WHITE CEDAR;Y;N;B;3300;W 4TH AV;KITSILANO;EVEN;2;6.0;Y;;                                                                          |\n",
       "| 3 | 3478;3378;W 4TH AV;THUJA;OCCIDENTALIS;;NORTHERN WHITE CEDAR;Y;N;B;3300;W 4TH AV;KITSILANO;EVEN;2;6.0;Y;;                                                                          |\n",
       "| 4 | 3479;3398;W 4TH AV;CARPINUS;BETULUS;FASTIGIATA;PYRAMIDAL EUROPEAN HORNBEAM;Y;N;B;3300;W 4TH AV;KITSILANO;EVEN;4;15.0;Y;;{\"coordinates\": [-123.17871, 49.2684], \"type\": \"Point\"}   |\n",
       "| 5 | 3482;3506;W 4TH AV;LIRIODENDRON;TULIPIFERA;ARNOLD;ARNOLD TULIPTREE;N;N;C;3500;W 4TH AV;KITSILANO;EVEN;2;4.5;Y;1998-02-18;{\"coordinates\": [-123.18195, 49.26848], \"type\": \"Point\"} |\n",
       "| 6 | 3489;3574;W 4TH AV;TILIA;EUCHLORA   X;;CRIMEAN LINDEN;N;N;C;3500;W 4TH AV;KITSILANO;EVEN;4;19.5;Y;;{\"coordinates\": [-123.18309, 49.2685], \"type\": \"Point\"}                        |\n",
       "\n"
      ],
      "text/plain": [
       "  TREE_ID.CIVIC_NUMBER.STD_STREET.GENUS_NAME.SPECIES_NAME.CULTIVAR_NAME.COMMON_NAME.ASSIGNED.ROOT_BARRIER.PLANT_AREA.ON_STREET_BLOCK.ON_STREET.NEIGHBOURHOOD_NAME.STREET_SIDE_NAME.HEIGHT_RANGE_ID.DIAMETER.CURB.DATE_PLANTED.Geom\n",
       "1 3469;3348;W 4TH AV;CARPINUS;BETULUS;FASTIGIATA;PYRAMIDAL EUROPEAN HORNBEAM;Y;N;B;3300;W 4TH AV;KITSILANO;EVEN;4;17.5;Y;;{\"coordinates\": [-123.17866, 49.26841], \"type\": \"Point\"}                                                \n",
       "2 3475;3378;W 4TH AV;THUJA;OCCIDENTALIS;;NORTHERN WHITE CEDAR;Y;N;B;3300;W 4TH AV;KITSILANO;EVEN;2;6.0;Y;;                                                                                                                        \n",
       "3 3478;3378;W 4TH AV;THUJA;OCCIDENTALIS;;NORTHERN WHITE CEDAR;Y;N;B;3300;W 4TH AV;KITSILANO;EVEN;2;6.0;Y;;                                                                                                                        \n",
       "4 3479;3398;W 4TH AV;CARPINUS;BETULUS;FASTIGIATA;PYRAMIDAL EUROPEAN HORNBEAM;Y;N;B;3300;W 4TH AV;KITSILANO;EVEN;4;15.0;Y;;{\"coordinates\": [-123.17871, 49.2684], \"type\": \"Point\"}                                                 \n",
       "5 3482;3506;W 4TH AV;LIRIODENDRON;TULIPIFERA;ARNOLD;ARNOLD TULIPTREE;N;N;C;3500;W 4TH AV;KITSILANO;EVEN;2;4.5;Y;1998-02-18;{\"coordinates\": [-123.18195, 49.26848], \"type\": \"Point\"}                                               \n",
       "6 3489;3574;W 4TH AV;TILIA;EUCHLORA   X;;CRIMEAN LINDEN;N;N;C;3500;W 4TH AV;KITSILANO;EVEN;4;19.5;Y;;{\"coordinates\": [-123.18309, 49.2685], \"type\": \"Point\"}                                                                      "
      ]
     },
     "metadata": {},
     "output_type": "display_data"
    }
   ],
   "source": [
    "download.file(\"https://opendata.vancouver.ca/explore/dataset/street-trees/download/?format=csv&timezone=America/Los_Angeles&lang=en&use_labels_for_header=true&csv_separator=%3B\", \"street_trees_data\")\n",
    "\n",
    "head(street_trees_data)"
   ]
  }
 ],
 "metadata": {
  "kernelspec": {
   "display_name": "R",
   "language": "R",
   "name": "ir"
  },
  "language_info": {
   "codemirror_mode": "r",
   "file_extension": ".r",
   "mimetype": "text/x-r-source",
   "name": "R",
   "pygments_lexer": "r",
   "version": "4.0.5"
  }
 },
 "nbformat": 4,
 "nbformat_minor": 5
}
