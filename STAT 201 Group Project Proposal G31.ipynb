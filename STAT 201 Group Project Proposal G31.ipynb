{
 "cells": [
  {
   "cell_type": "markdown",
   "id": "c9f52ebe-3078-4406-8698-08fd9f84267d",
   "metadata": {},
   "source": [
    "# _STAT 201 Group Project Proposal_"
   ]
  },
  {
   "cell_type": "markdown",
   "id": "59e74fbd-30ac-4da6-abb0-907af941d89f",
   "metadata": {},
   "source": [
    "##### _Group 31: Alexandr Kim, Yingshan Wu, Yang Lei, Harbor Zhang_"
   ]
  },
  {
   "cell_type": "code",
   "execution_count": null,
   "id": "ccee481c-0232-414d-a56b-5aae7f88203c",
   "metadata": {},
   "outputs": [],
   "source": []
  },
  {
   "cell_type": "code",
   "execution_count": null,
   "id": "4677d811-c38d-4c70-9f8d-c428dbe5b764",
   "metadata": {},
   "outputs": [],
   "source": []
  },
  {
   "cell_type": "markdown",
   "id": "f12a017b-64e2-4709-b66b-90e8bc9216e7",
   "metadata": {
    "tags": []
   },
   "source": [
    "### Adding necessary libraries"
   ]
  },
  {
   "cell_type": "markdown",
   "id": "2f9a97fe-2bfd-4e12-a669-5c541b53b29f",
   "metadata": {},
   "source": [
    "In order to load the packages, we have to use the code `install.packages()`"
   ]
  },
  {
   "cell_type": "code",
   "execution_count": null,
   "id": "de8a7a12-5af0-4d59-a187-f33a3c673ae4",
   "metadata": {},
   "outputs": [],
   "source": [
    "install.packages(\"tidyverse\")\n",
    "install.packages(\"tidymodels\")\n",
    "install.packages(\"repr\")\n",
    "install.packages(\"cowplot\")\n",
    "install.packages(\"ggplot2\")\n",
    "install.packages(\"GGally\")\n",
    "install.packages(\"digest\")\n",
    "install.packages(\"infer\")"
   ]
  },
  {
   "cell_type": "markdown",
   "id": "29802987-50ed-4861-ab78-aafc6700b4c0",
   "metadata": {},
   "source": [
    "After installing relevant packages, we need to load it into workflow"
   ]
  },
  {
   "cell_type": "code",
   "execution_count": 2,
   "id": "bc559b54-5eff-4c41-a890-b59e015694b6",
   "metadata": {},
   "outputs": [
    {
     "name": "stderr",
     "output_type": "stream",
     "text": [
      "── \u001b[1mAttaching packages\u001b[22m ─────────────────────────────────────── tidyverse 1.3.0 ──\n",
      "\n",
      "\u001b[32m✔\u001b[39m \u001b[34mggplot2\u001b[39m 3.3.6     \u001b[32m✔\u001b[39m \u001b[34mpurrr  \u001b[39m 0.3.4\n",
      "\u001b[32m✔\u001b[39m \u001b[34mtibble \u001b[39m 3.1.7     \u001b[32m✔\u001b[39m \u001b[34mdplyr  \u001b[39m 1.0.9\n",
      "\u001b[32m✔\u001b[39m \u001b[34mtidyr  \u001b[39m 1.2.0     \u001b[32m✔\u001b[39m \u001b[34mstringr\u001b[39m 1.4.0\n",
      "\u001b[32m✔\u001b[39m \u001b[34mreadr  \u001b[39m 2.1.2     \u001b[32m✔\u001b[39m \u001b[34mforcats\u001b[39m 0.5.1\n",
      "\n",
      "── \u001b[1mConflicts\u001b[22m ────────────────────────────────────────── tidyverse_conflicts() ──\n",
      "\u001b[31m✖\u001b[39m \u001b[34mdplyr\u001b[39m::\u001b[32mfilter()\u001b[39m masks \u001b[34mstats\u001b[39m::filter()\n",
      "\u001b[31m✖\u001b[39m \u001b[34mdplyr\u001b[39m::\u001b[32mlag()\u001b[39m    masks \u001b[34mstats\u001b[39m::lag()\n",
      "\n"
     ]
    }
   ],
   "source": [
    "library(tidyverse)\n",
    "library(cowplot)\n",
    "library(infer)\n",
    "library(repr)\n",
    "library(ggplot2)"
   ]
  },
  {
   "cell_type": "code",
   "execution_count": null,
   "id": "7da9026b-a748-4593-9ccb-0b06cbf1978e",
   "metadata": {},
   "outputs": [],
   "source": []
  },
  {
   "cell_type": "markdown",
   "id": "375bcfb3-5f0d-40fc-9fb2-ee34dce616c5",
   "metadata": {},
   "source": [
    "### Appendix A: Data set for street trees in Vancouver (BC, Canada) recorded by City of Vancouver"
   ]
  },
  {
   "cell_type": "code",
   "execution_count": null,
   "id": "b205b954-ee40-495b-933b-f4f850f8b2e9",
   "metadata": {},
   "outputs": [],
   "source": []
  }
 ],
 "metadata": {
  "kernelspec": {
   "display_name": "R",
   "language": "R",
   "name": "ir"
  },
  "language_info": {
   "codemirror_mode": "r",
   "file_extension": ".r",
   "mimetype": "text/x-r-source",
   "name": "R",
   "pygments_lexer": "r",
   "version": "4.0.5"
  }
 },
 "nbformat": 4,
 "nbformat_minor": 5
}
