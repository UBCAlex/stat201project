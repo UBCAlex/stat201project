{
 "cells": [
  {
   "cell_type": "markdown",
   "id": "c9f52ebe-3078-4406-8698-08fd9f84267d",
   "metadata": {},
   "source": [
    "# _STAT 201 Group Project Proposal_"
   ]
  },
  {
   "cell_type": "markdown",
   "id": "59e74fbd-30ac-4da6-abb0-907af941d89f",
   "metadata": {},
   "source": [
    "##### _Group 31: Alexandr Kim, Yingshan Wu, Yang Lei, Harbor Zhang_"
   ]
  },
  {
   "cell_type": "code",
   "execution_count": null,
   "id": "ccee481c-0232-414d-a56b-5aae7f88203c",
   "metadata": {},
   "outputs": [],
   "source": []
  },
  {
   "cell_type": "code",
   "execution_count": null,
   "id": "4677d811-c38d-4c70-9f8d-c428dbe5b764",
   "metadata": {},
   "outputs": [],
   "source": []
  },
  {
   "cell_type": "markdown",
   "id": "f12a017b-64e2-4709-b66b-90e8bc9216e7",
   "metadata": {
    "tags": []
   },
   "source": [
    "### Adding Necessary Packages"
   ]
  },
  {
   "cell_type": "markdown",
   "id": "2f9a97fe-2bfd-4e12-a669-5c541b53b29f",
   "metadata": {},
   "source": [
    "In order to load the packages, we have to use the code `install.packages()`"
   ]
  },
  {
   "cell_type": "code",
   "execution_count": 5,
   "id": "de8a7a12-5af0-4d59-a187-f33a3c673ae4",
   "metadata": {},
   "outputs": [
    {
     "name": "stderr",
     "output_type": "stream",
     "text": [
      "also installing the dependencies ‘rappdirs’, ‘gargle’, ‘ids’, ‘dtplyr’, ‘googledrive’, ‘googlesheets4’, ‘lubridate’\n",
      "\n",
      "\n",
      "Updating HTML index of packages in '.Library'\n",
      "\n",
      "Making 'packages.html' ...\n",
      " done\n",
      "\n",
      "also installing the dependencies ‘warp’, ‘patchwork’, ‘slider’, ‘conflicted’, ‘infer’, ‘modeldata’, ‘recipes’, ‘rsample’, ‘tune’, ‘workflowsets’\n",
      "\n",
      "\n",
      "Updating HTML index of packages in '.Library'\n",
      "\n",
      "Making 'packages.html' ...\n",
      " done\n",
      "\n",
      "Updating HTML index of packages in '.Library'\n",
      "\n",
      "Making 'packages.html' ...\n",
      " done\n",
      "\n",
      "Warning message in install.packages(\"cowplot\"):\n",
      "“installation of package ‘cowplot’ had non-zero exit status”\n",
      "Updating HTML index of packages in '.Library'\n",
      "\n",
      "Making 'packages.html' ...\n",
      " done\n",
      "\n",
      "Updating HTML index of packages in '.Library'\n",
      "\n",
      "Making 'packages.html' ...\n",
      " done\n",
      "\n",
      "Warning message in install.packages(\"GGally\"):\n",
      "“installation of package ‘GGally’ had non-zero exit status”\n",
      "Updating HTML index of packages in '.Library'\n",
      "\n",
      "Making 'packages.html' ...\n",
      " done\n",
      "\n",
      "Updating HTML index of packages in '.Library'\n",
      "\n",
      "Making 'packages.html' ...\n",
      " done\n",
      "\n",
      "Updating HTML index of packages in '.Library'\n",
      "\n",
      "Making 'packages.html' ...\n",
      " done\n",
      "\n",
      "Updating HTML index of packages in '.Library'\n",
      "\n",
      "Making 'packages.html' ...\n",
      " done\n",
      "\n"
     ]
    }
   ],
   "source": [
    "install.packages(\"tidyverse\")\n",
    "install.packages(\"tidymodels\")\n",
    "install.packages(\"repr\")\n",
    "install.packages(\"cowplot\")\n",
    "install.packages(\"ggplot2\")\n",
    "install.packages(\"GGally\")\n",
    "install.packages(\"digest\")\n",
    "install.packages(\"infer\")\n",
    "install.packages(\"RCurl\")"
   ]
  },
  {
   "cell_type": "markdown",
   "id": "29802987-50ed-4861-ab78-aafc6700b4c0",
   "metadata": {},
   "source": [
    "After installing relevant packages, we need to load it into workflow using `library()`"
   ]
  },
  {
   "cell_type": "code",
   "execution_count": 6,
   "id": "bc559b54-5eff-4c41-a890-b59e015694b6",
   "metadata": {},
   "outputs": [],
   "source": [
    "library(tidyverse)\n",
    "library(cowplot)\n",
    "library(infer)\n",
    "library(repr)\n",
    "library(ggplot2)\n",
    "library(XML)\n",
    "library(RCurl)"
   ]
  },
  {
   "cell_type": "code",
   "execution_count": null,
   "id": "7da9026b-a748-4593-9ccb-0b06cbf1978e",
   "metadata": {},
   "outputs": [],
   "source": []
  },
  {
   "cell_type": "markdown",
   "id": "375bcfb3-5f0d-40fc-9fb2-ee34dce616c5",
   "metadata": {},
   "source": [
    "### Appendix A: Data set for street trees in Vancouver (BC, Canada) recorded by City of Vancouver"
   ]
  },
  {
   "cell_type": "code",
   "execution_count": 14,
   "id": "b205b954-ee40-495b-933b-f4f850f8b2e9",
   "metadata": {},
   "outputs": [
    {
     "data": {
      "text/html": [
       "<table class=\"dataframe\">\n",
       "<caption>A data.frame: 6 × 1</caption>\n",
       "<thead>\n",
       "\t<tr><th></th><th scope=col>X..DOCTYPE.html.</th></tr>\n",
       "\t<tr><th></th><th scope=col>&lt;chr&gt;</th></tr>\n",
       "</thead>\n",
       "<tbody>\n",
       "\t<tr><th scope=row>1</th><td><span style=white-space:pre-wrap>&lt;html lang=en&gt;                                           </span></td></tr>\n",
       "\t<tr><th scope=row>2</th><td><span style=white-space:pre-wrap>    &lt;head&gt;                                               </span></td></tr>\n",
       "\t<tr><th scope=row>3</th><td>                                                         </td></tr>\n",
       "\t<tr><th scope=row>4</th><td>                                                         </td></tr>\n",
       "\t<tr><th scope=row>5</th><td>                                                         </td></tr>\n",
       "\t<tr><th scope=row>6</th><td><span style=white-space:pre-wrap>        &lt;title&gt;City of Vancouver Open Data Portal&lt;/title&gt;</span></td></tr>\n",
       "</tbody>\n",
       "</table>\n"
      ],
      "text/latex": [
       "A data.frame: 6 × 1\n",
       "\\begin{tabular}{r|l}\n",
       "  & X..DOCTYPE.html.\\\\\n",
       "  & <chr>\\\\\n",
       "\\hline\n",
       "\t1 & <html lang=en>                                           \\\\\n",
       "\t2 &     <head>                                               \\\\\n",
       "\t3 &                                                          \\\\\n",
       "\t4 &                                                          \\\\\n",
       "\t5 &                                                          \\\\\n",
       "\t6 &         <title>City of Vancouver Open Data Portal</title>\\\\\n",
       "\\end{tabular}\n"
      ],
      "text/markdown": [
       "\n",
       "A data.frame: 6 × 1\n",
       "\n",
       "| <!--/--> | X..DOCTYPE.html. &lt;chr&gt; |\n",
       "|---|---|\n",
       "| 1 | &lt;html lang=en&gt;                                            |\n",
       "| 2 |     &lt;head&gt;                                                |\n",
       "| 3 | <!----> |\n",
       "| 4 | <!----> |\n",
       "| 5 | <!----> |\n",
       "| 6 |         &lt;title&gt;City of Vancouver Open Data Portal&lt;/title&gt; |\n",
       "\n"
      ],
      "text/plain": [
       "  X..DOCTYPE.html.                                         \n",
       "1 <html lang=en>                                           \n",
       "2     <head>                                               \n",
       "3                                                          \n",
       "4                                                          \n",
       "5                                                          \n",
       "6         <title>City of Vancouver Open Data Portal</title>"
      ]
     },
     "metadata": {},
     "output_type": "display_data"
    }
   ],
   "source": [
    "download <- getURL(\"https://opendata.vancouver.ca/explore/embed/dataset/street-trees/table/?disjunctive.species_name&disjunctive.common_name&disjunctive.on_street&disjunctive.neighbourhood_name&dataChart=eyJxdWVyaWVzIjpbeyJjaGFydHMiOlt7InR5cGUiOiJsaW5lIiwiZnVuYyI6IkNPVU5UIiwieUF4aXMiOiJoZWlnaHRfcmFuZ2VfaWQiLCJzY2llbnRpZmljRGlzcGxheSI6dHJ1ZSwiY29sb3IiOiIjMDI3OUIxIn1dLCJ4QXhpcyI6ImRhdGVfcGxhbnRlZCIsIm1heHBvaW50cyI6IiIsInRpbWVzY2FsZSI6InllYXIiLCJzb3J0IjoiIiwiY29uZmlnIjp7ImRhdGFzZXQiOiJzdHJlZXQtdHJlZXMiLCJvcHRpb25zIjp7ImRpc2p1bmN0aXZlLnNwZWNpZXNfbmFtZSI6dHJ1ZSwiZGlzanVuY3RpdmUuY29tbW9uX25hbWUiOnRydWUsImRpc2p1bmN0aXZlLm9uX3N0cmVldCI6dHJ1ZSwiZGlzanVuY3RpdmUubmVpZ2hib3VyaG9vZF9uYW1lIjp0cnVlfX19XSwiZGlzcGxheUxlZ2VuZCI6dHJ1ZSwiYWxpZ25Nb250aCI6dHJ1ZX0%3D&location=12,49.24765,-123.12046\")\n",
    "street_trees_data <- read.csv(text = download)\n",
    "\n",
    "head(street_trees_data)"
   ]
  }
 ],
 "metadata": {
  "kernelspec": {
   "display_name": "R",
   "language": "R",
   "name": "ir"
  },
  "language_info": {
   "codemirror_mode": "r",
   "file_extension": ".r",
   "mimetype": "text/x-r-source",
   "name": "R",
   "pygments_lexer": "r",
   "version": "4.0.5"
  }
 },
 "nbformat": 4,
 "nbformat_minor": 5
}
